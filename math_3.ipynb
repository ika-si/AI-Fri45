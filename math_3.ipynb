{
  "nbformat": 4,
  "nbformat_minor": 0,
  "metadata": {
    "colab": {
      "name": "math_3",
      "provenance": [],
      "include_colab_link": true
    },
    "kernelspec": {
      "name": "python3",
      "display_name": "Python 3"
    }
  },
  "cells": [
    {
      "cell_type": "markdown",
      "metadata": {
        "id": "view-in-github",
        "colab_type": "text"
      },
      "source": [
        "<a href=\"https://colab.research.google.com/github/ika-si/ML/blob/main/math_3.ipynb\" target=\"_parent\"><img src=\"https://colab.research.google.com/assets/colab-badge.svg\" alt=\"Open In Colab\"/></a>"
      ]
    },
    {
      "cell_type": "markdown",
      "metadata": {
        "id": "G_8YcvfiUjtV"
      },
      "source": [
        "# pythonで主成分分析を実装する\n",
        "\n",
        "## 3.主成分分析実装編\n",
        "\n",
        "### 3-0. Google Colab のファイルを手元にコピーする\n",
        "- この文を読めている時点でアクセスには成功している。\n",
        "- 自身のGoogleドライブ上の好きな場所にこのファイルのコピーを作成しよう。\n",
        "- 自身のローカルで実行していっても良いが、基本的にはGoogle Colabで進めることを想定している。\n",
        "\n",
        "### 3-1. 自分自身で主成分分析を実装してみよう\n",
        "\n",
        "- **下のコードを完成させて、主成分分析が実行されるようにしてみよう。**\n",
        "  - コードが走ればよいので、それぞれに何が入るかを報告するのではなく、挙動した結果として下の様な散布図が得られたことを確認すればよい。\n",
        "  - **先ほどのscikit-learnによる実装と同じ結果が得られたら終わり！すばらしい！**\n",
        "    - 車輪の再発明ではあるが、原理が分かっていて、さらにその原理は割とシンプルなコードで書けることも分かっている意義は大きい。\n",
        "    - うまく行った場合でも、縦方向の成分がsklearnの場合と上下反転していることに気づくかもしれない。\n",
        "      - 縦の座標の正負を反転させると完全一致することが分かる。\n",
        "      - 実際最適化自体はうまくできているので、sklearnと同一の実装とみなしてよい。\n",
        "    - 分からない場合のために下にヒントを付けてある。必要に応じて参照しよう。\n",
        "  - **実行結果として、得られた散布図が同じになったらTAに見せること（誰か1名でよい）。終わったら解散してよいが、時間が余ったら以下の4.加点課題：判別分析に取り組んでも良い。**"
      ]
    },
    {
      "cell_type": "code",
      "metadata": {
        "id": "UZ8vY0IIIxD4",
        "colab": {
          "base_uri": "https://localhost:8080/",
          "height": 361
        },
        "outputId": "1718d4cd-1ccf-4c75-9dff-26f7df079296"
      },
      "source": [
        "# 自分自身で主成分分析を実装して使ってみよう\n",
        "\n",
        "import numpy as np\n",
        "import itertools\n",
        "import matplotlib.pyplot as plt\n",
        "%matplotlib inline\n",
        "import sklearn\n",
        "import sklearn.datasets\n",
        "\n",
        "# あやめデータセットを読み込んでいる\n",
        "iris = sklearn.datasets.load_iris()\n",
        "\n",
        "# 主成分分析を実行するクラス\n",
        "class myPCA:\n",
        "\n",
        "    # コンストラクタ（クラスを初期化する） \n",
        "    def __init__(self, n_components=2):\n",
        "\n",
        "        # 主成分空間の次元数（何次元空間に圧縮したいか）\n",
        "        self.n_components = n_components\n",
        "\n",
        "    # 主成分分析の学習\n",
        "    def fit(self, X):\n",
        "\n",
        "        # 中心化（特徴量の平均を0にする処理）\n",
        "        # まずは平均ベクトルを求める\n",
        "        self.mean_X = np.average.mean(X, axis=0)\n",
        "        # 全データから平均ベクトルを引く（ブロードキャスト処理）\n",
        "        centered_X = X - self.mean_X.reshape()\n",
        "\n",
        "        # xの分散共分散行列を求める\n",
        "        S_x = np.matmul(centered_X.T, centered_X) \n",
        "        # ←  centered_X と centered_X の転置 の掛け算だが順序に注意\n",
        "        #                                 特にpythonは行列が全て転置されている点に注意！！\n",
        "\n",
        "        # 主成分分析＝分散共分散行列の固有値問題を解く\n",
        "        eigen_values, eigen_vectors = np.linalg.eigvals(S_x)\n",
        "        # eigen_value が大きい順にソート\n",
        "        idx = eigen_values.argsort()[::-1]   \n",
        "        # ソートした結果に基づいて固有ベクトルを並び替える\n",
        "        self.eigen_vectors = eigen_vectors[:,idx]\n",
        " \n",
        "    # 主成分分析の学習結果の適用\n",
        "    def transform(self, Xt):\n",
        "\n",
        "        # 中心化（特徴量の平均を0にする処理）\n",
        "        # 引数のデータからfit関数で得た平均ベクトルを引く（ブロードキャスト処理）\n",
        "        centered_Xt = Xt - self.mean_X.reshape()\n",
        "\n",
        "        # 主成分分析の学習で得た固有ベクトルをself.n_components分だけ用いて射影\n",
        "        return np.matmul(self.n_components) \n",
        "        # ← centered_Xt と self.eigen_vectors[:,0:self.n_components] を掛け算すればよいが順序に注意\n",
        "\n",
        "# 自分自身による実装を使ってみよう\n",
        "\n",
        "# 実装したmyPCAのインスタンスを作成\n",
        "# 2次元空間に射影するインスタンスとする\n",
        "mypca = myPCA(n_components=2)\n",
        "\n",
        "# あやめデータをつかって主成分分析を学習\n",
        "mypca.fit(iris.data)\n",
        "\n",
        "# 学習した結果を使ってあやめデータを2次元空間に射影\n",
        "my_pc_data = mypca.transform(iris.data)\n",
        "\n",
        "# 2次元の主成分空間上でのあやめデータの分布をチェック\n",
        "# 色付けはあやめデータの各品種である iris.target を使用\n",
        "plt.scatter(my_pc_data[:, 0], my_pc_data[:, 1], c=iris.target)"
      ],
      "execution_count": 6,
      "outputs": [
        {
          "output_type": "error",
          "ename": "AttributeError",
          "evalue": "ignored",
          "traceback": [
            "\u001b[0;31m---------------------------------------------------------------------------\u001b[0m",
            "\u001b[0;31mAttributeError\u001b[0m                            Traceback (most recent call last)",
            "\u001b[0;32m<ipython-input-6-0b7fa8526182>\u001b[0m in \u001b[0;36m<module>\u001b[0;34m()\u001b[0m\n\u001b[1;32m     59\u001b[0m \u001b[0;34m\u001b[0m\u001b[0m\n\u001b[1;32m     60\u001b[0m \u001b[0;31m# あやめデータをつかって主成分分析を学習\u001b[0m\u001b[0;34m\u001b[0m\u001b[0;34m\u001b[0m\u001b[0;34m\u001b[0m\u001b[0m\n\u001b[0;32m---> 61\u001b[0;31m \u001b[0mmypca\u001b[0m\u001b[0;34m.\u001b[0m\u001b[0mfit\u001b[0m\u001b[0;34m(\u001b[0m\u001b[0miris\u001b[0m\u001b[0;34m.\u001b[0m\u001b[0mdata\u001b[0m\u001b[0;34m)\u001b[0m\u001b[0;34m\u001b[0m\u001b[0;34m\u001b[0m\u001b[0m\n\u001b[0m\u001b[1;32m     62\u001b[0m \u001b[0;34m\u001b[0m\u001b[0m\n\u001b[1;32m     63\u001b[0m \u001b[0;31m# 学習した結果を使ってあやめデータを2次元空間に射影\u001b[0m\u001b[0;34m\u001b[0m\u001b[0;34m\u001b[0m\u001b[0;34m\u001b[0m\u001b[0m\n",
            "\u001b[0;32m<ipython-input-6-0b7fa8526182>\u001b[0m in \u001b[0;36mfit\u001b[0;34m(self, X)\u001b[0m\n\u001b[1;32m     25\u001b[0m         \u001b[0;31m# 中心化（特徴量の平均を0にする処理）\u001b[0m\u001b[0;34m\u001b[0m\u001b[0;34m\u001b[0m\u001b[0;34m\u001b[0m\u001b[0m\n\u001b[1;32m     26\u001b[0m         \u001b[0;31m# まずは平均ベクトルを求める\u001b[0m\u001b[0;34m\u001b[0m\u001b[0;34m\u001b[0m\u001b[0;34m\u001b[0m\u001b[0m\n\u001b[0;32m---> 27\u001b[0;31m         \u001b[0mself\u001b[0m\u001b[0;34m.\u001b[0m\u001b[0mmean_X\u001b[0m \u001b[0;34m=\u001b[0m \u001b[0mnp\u001b[0m\u001b[0;34m.\u001b[0m\u001b[0maverage\u001b[0m\u001b[0;34m.\u001b[0m\u001b[0mmean\u001b[0m\u001b[0;34m(\u001b[0m\u001b[0mX\u001b[0m\u001b[0;34m,\u001b[0m \u001b[0maxis\u001b[0m\u001b[0;34m=\u001b[0m\u001b[0;36m0\u001b[0m\u001b[0;34m)\u001b[0m\u001b[0;34m\u001b[0m\u001b[0;34m\u001b[0m\u001b[0m\n\u001b[0m\u001b[1;32m     28\u001b[0m         \u001b[0;31m# 全データから平均ベクトルを引く（ブロードキャスト処理）\u001b[0m\u001b[0;34m\u001b[0m\u001b[0;34m\u001b[0m\u001b[0;34m\u001b[0m\u001b[0m\n\u001b[1;32m     29\u001b[0m         \u001b[0mcentered_X\u001b[0m \u001b[0;34m=\u001b[0m \u001b[0mX\u001b[0m \u001b[0;34m-\u001b[0m \u001b[0mself\u001b[0m\u001b[0;34m.\u001b[0m\u001b[0mmean_X\u001b[0m\u001b[0;34m.\u001b[0m\u001b[0mreshape\u001b[0m\u001b[0;34m(\u001b[0m\u001b[0;34m)\u001b[0m\u001b[0;34m\u001b[0m\u001b[0;34m\u001b[0m\u001b[0m\n",
            "\u001b[0;31mAttributeError\u001b[0m: 'function' object has no attribute 'mean'"
          ]
        }
      ]
    },
    {
      "cell_type": "markdown",
      "metadata": {
        "id": "fevU3bFL2_pB"
      },
      "source": [
        "![mypca.png](data:image/png;base64,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)"
      ]
    },
    {
      "cell_type": "markdown",
      "metadata": {
        "id": "rRMaC5R74SiR"
      },
      "source": [
        "### 3-2. ヒント集\n",
        "\n",
        "- 主成分分析のまとめ\n",
        "\n",
        "  - 先ほどもまとめたが、特徴量ベクトル$\\boldsymbol{x}$の主成分分析を行う際は、以下の手順を踏めばよかった。\n",
        "\n",
        "    1.   特徴量の分散共分散行列$S_x = \\frac{1}{n}\\sum^{n}_{i=1}  \\boldsymbol{x}_i \\boldsymbol{x}_i^\\top$を求める\n",
        "    2.   この行列$S_x$の固有ベクトルを求める\n",
        "\n",
        "  - 詳細は省くが、この時の固有値$\\lambda$が、固有ベクトルによって射影した後の$\\boldsymbol{w}^\\top \\boldsymbol{x}$の分散になっている。つまり、**$c$次元の空間で分散が最大になるような空間（主成分空間）を得るためには、固有値が大きい順に対応する$c$個の固有ベクトルを求めれば良い**。\n",
        "\n",
        "- 「　①　」\n",
        "  - numpyで平均ベクトルを求める関数を呼ぶ。webでnumpyのドキュメントを調べてみよう。\n",
        "- 「　②　」\n",
        "  - 行列X（各行に各特徴量ベクトルが入っている）から平均ベクトルを引けばよい。\n",
        "    - 例えば数学として$X - \\bar{\\boldsymbol{x}}$と書いたら怒られる。左は行列、右はベクトルであって、行列からベクトルを引き算するというのは数学的には定義されていない。\n",
        "    - しかしながらnumpyにはブロードキャストという便利な機能があって…？\n",
        "- 「　③　」\n",
        "  - $S_x = \\frac{1}{n}\\sum^{n}_{i=1}  \\boldsymbol{x}_i \\boldsymbol{x}_i^\\top$の固有ベクトルを求めたい。\n",
        "  - 固有ベクトルだけであれば、$S_x$の定数倍の行列である$\\sum^{n}_{i=1}  \\boldsymbol{x}_i \\boldsymbol{x}_i^\\top$も同じ固有ベクトルを持つ。（線形代数の基本）\n",
        "  - そしてこの$\\sum^{n}_{i=1}  \\boldsymbol{x}_i \\boldsymbol{x}_i^\\top$はじつはある行列とその転置の積で表現できる。\n",
        "  - pythonとnumpyでは行列が転置されていることに注意しよう。行列$A$と$B$で$C=AB$という行列$C$を得たいときは、np.matmulでは$C^\\top = \\mathrm{np.matmul}(B^\\top, A^\\top)$という呼び方をする必要がある。\n",
        "- 「　④　」\n",
        "  - S_xの固有ベクトルを求めたい。実はnumpyにそういう関数がある。webでnumpyのドキュメントを調べてみよう。\n",
        "- 「　⑤　」\n",
        "  - ほぼ「　②　」とおなじ。\n",
        "- 「　⑥　」\n",
        "  - 中心化されたXtとself.eigen_vectorsの一部を掛け算すればよい。\n",
        "  - pythonとnumpyでは行列が転置されていることに注意しよう。\n",
        "  - self.eigen_vectorsは既に転置済みで、$W^\\top$という形になっている。\n",
        "    - そして上から順に分散が大きい成分への射影ベクトルが並んでいる。\n",
        "    - つまり上からself.n_componentsと同じ行数だけを参照すればよい。"
      ]
    },
    {
      "cell_type": "markdown",
      "metadata": {
        "id": "Ikce9StA-D86"
      },
      "source": [
        "# 4. 加点課題：判別分析\n",
        "**加点課題：判別分析とは何かを以下のフォーマットに従って説明せよ。**\n",
        "  - 1:主成分分析が分散を最大化する射影を求めているのに対し、判別分析では何を最大化する射影を求めているのか。\n",
        "  - 2:判別分析でも一般化固有値問題を解くことになるが、その式はどのようなものか。\n",
        "  - 上記は言葉による説明のみでも良いが、変数を定義しながら数式で書いた方が簡単であればそのようにしてもかまわない。\n",
        "  - この課題の解答は ushiku@gm.tsuda.ac.jp 宛に「数式演習 加点課題：（氏名）」というタイトルで送付すること。\n",
        "  - 基準以上の解答が出来た者には出席点0.5回分を加点する。\n"
      ]
    }
  ]
}