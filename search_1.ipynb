{
  "nbformat": 4,
  "nbformat_minor": 0,
  "metadata": {
    "colab": {
      "name": "search_1",
      "provenance": [],
      "collapsed_sections": [],
      "include_colab_link": true
    },
    "kernelspec": {
      "name": "python3",
      "display_name": "Python 3"
    }
  },
  "cells": [
    {
      "cell_type": "markdown",
      "metadata": {
        "id": "view-in-github",
        "colab_type": "text"
      },
      "source": [
        "<a href=\"https://colab.research.google.com/github/ika-si/AI-Fri45/blob/main/search_1.ipynb\" target=\"_parent\"><img src=\"https://colab.research.google.com/assets/colab-badge.svg\" alt=\"Open In Colab\"/></a>"
      ]
    },
    {
      "cell_type": "markdown",
      "metadata": {
        "id": "pTl6yu24ogST"
      },
      "source": [
        "# pythonで迷路（＝グラフ）探索アルゴリズムを実装する\n",
        "\n",
        "## 1. 深さ優先探索編\n",
        "\n",
        "### 1-0. Google Colab のファイルを手元にコピーする\n",
        "- この文を読めている時点でアクセスには成功している。\n",
        "- 自身のGoogleドライブ上の好きな場所にこのファイルのコピーを作成しよう。\n",
        "- 自身のローカルで実行していっても良いが、基本的にはGoogle Colabで進めることを想定している。\n",
        "\n",
        "### 1-1. 深さ優先探索（DFS; Depth First Search）の関数と前準備\n",
        "- 以下のコードは、これまでで用意したグラフ上でいよいよ探索を始めるための関数である。\n",
        "  - 今の状態で一旦実行させてみよう。次のような出力が得られるはずだ。\n",
        "```\n",
        "[False, False, False, False, False, False, False, False, False, False]\n",
        "[False, False, False, False, False, False, False, False, False, False]\n",
        "```\n",
        "  - しかしながら、コードのコメントをみればわかるように、2つ目の出力では最初のノードを訪問済みにしたい。つまり、スタートするノードである0番目のノードではvisitedをTrueにしたい。\n",
        "```\n",
        "[False, False, False, False, False, False, False, False, False, False]\n",
        "[True, False, False, False, False, False, False, False, False, False]\n",
        "```\n",
        "- **「1-1.で完成させる行」に何を入れるべきか考えて、実際に上記の出力が得られるようにしよう。うまく行ったら次のステップへ。**"
      ]
    },
    {
      "cell_type": "code",
      "metadata": {
        "id": "gyWrm1Hap9AC",
        "colab": {
          "base_uri": "https://localhost:8080/",
          "height": 354
        },
        "outputId": "ad48b998-1840-4b6d-b3e9-549066543d57"
      },
      "source": [
        "from collections import defaultdict \n",
        "import matplotlib.pyplot as plt\n",
        "import networkx as nx\n",
        "\n",
        "# 迷路をグラフとして保持するクラス\n",
        "class Graph: \n",
        "  \n",
        "    # コンストラクタ（クラスを初期化する） \n",
        "    def __init__(self): \n",
        "  \n",
        "        # pythonのcollectionsから辞書型の変数を宣言し、このクラスのメンバ変数として定義\n",
        "        self.graph = defaultdict(list) \n",
        "  \n",
        "    # u番目のノードとv番目のノードの間に双方向のエッジを張る\n",
        "    def addEdge(self, u, v): \n",
        "        self.graph[u].append(v) \n",
        "        self.graph[v].append(u) \n",
        "\n",
        "    # Depth First Search (深さ優先探索) でoriginノードからdestinationノードまで探索 \n",
        "    def DFS(self, o, d): \n",
        "  \n",
        "        # ノードそれぞれを訪問したことがあるかを示すリスト\n",
        "        # 最初は全て訪問したことがないので False のみ \n",
        "        visited = [False] * (len(self.graph)) \n",
        "        print(visited)\n",
        "  \n",
        "        # オープンリスト\n",
        "        queue = [] \n",
        "  \n",
        "        # オープンリストの要素第1号としてスタート地点を追加\n",
        "        queue.append(o) \n",
        "        # スタート地点を訪問済みにする\n",
        "        visited[o] = True# 1-1.で完成させる行\n",
        "        print(visited)  \n",
        "  \n",
        "if __name__ == \"__main__\":\n",
        "  \n",
        "    # グラフを作成する\n",
        "    # 講義で表示されているとおりのグラフをここで作成する \n",
        "    # (Sを0、Gを9とし、その他のノードは番号通り1から8までとする)\n",
        "    g = Graph() \n",
        "    g.addEdge(0, 1)\n",
        "    g.addEdge(1, 4)\n",
        "    g.addEdge(1, 2)\n",
        "    g.addEdge(2, 3)\n",
        "    g.addEdge(2, 4)\n",
        "    g.addEdge(4, 7)\n",
        "    g.addEdge(7, 6)\n",
        "    g.addEdge(7, 5)\n",
        "    g.addEdge(5, 8)\n",
        "    g.addEdge(5, 9)\n",
        "\n",
        "    # グラフの図示にはnetworkxを用いる\n",
        "    # 上記で作成したGraphクラスのインスタンスにあるメンバ変数のgraphをnetworkxのグラフ表現に変換して表示\n",
        "    nx.draw(nx.convert.to_networkx_graph(g.graph), with_labels=True)\n",
        "    plt.show()\n",
        "\n",
        "    # 深さ優先探索の実行\n",
        "    g.DFS(0,9)\n"
      ],
      "execution_count": 4,
      "outputs": [
        {
          "output_type": "display_data",
          "data": {
            "image/png": "[encoded data removed]",
            "text/plain": [
              "<Figure size 432x288 with 1 Axes>"
            ]
          },
          "metadata": {}
        },
        {
          "output_type": "stream",
          "name": "stdout",
          "text": [
            "[False, False, False, False, False, False, False, False, False, False]\n",
            "[True, False, False, False, False, False, False, False, False, False]\n"
          ]
        }
      ]
    },
    {
      "cell_type": "markdown",
      "metadata": {
        "id": "hhvkf1_NtAXG"
      },
      "source": [
        "### 1-2. DFSを完成させよう（1/2）\n",
        "- いよいよ探索の部分の実装に入っていく。\n",
        "  - 実装時には、デバッギングしながら少しずつコードを足していく。\n",
        "    - いきなりたくさん行を足して実行して動かなかった場合、どの行が原因か分かりにくくなるので、足すのは少しずつ。\n",
        "    - デバッギングする手段として一番お手軽なのが、変数をprintで標準出力していく方法である。\n",
        "    - デバッガと呼ばれる専用のツール群を使った方がより多角的にデバッギングできるが、printでのデバッグもお手軽な方法として有用である。\n",
        "    - ここではsubqueueとvisitedという変数を例に、実装の進め方を体験してみよう。\n",
        "  - とりあえず実行してみよう。最後の2行が次のように表示されるはずだ。\n",
        "```\n",
        "0 []\n",
        "[True, False, False, False, False, False, False, False, False, False]\n",
        "```\n",
        "    - 👆の1行目の\"0\"はprint (s, end = \" \")の出力（今回はあまり関係ない）。\n",
        "    - 👆の1行目の\"[]\"はprint(subqueue)の出力で、今取り出したノードsから遷移可能でまだ訪れていないノードが表示される予定である。\n",
        "      - 本来であれば変数sがノード0なので、隣接しているノード1がsubqueueに格納されていて欲しい。\n",
        "    - 👆の2行目の\"\"はprint(visited)の出力で、各ノードに訪れたことがある場合はTrue、そうでなければFalseが格納されている予定である。\n",
        "      - ノード1がsubqueueに格納されるので、ノード0だけでなくノード1に対応する要素もTrueになっていて欲しい。\n",
        "  - 下のコードで3行コメントアウトされている部分がある。\n",
        "```\n",
        "# if visited[i] == False:\n",
        "#     subqueue# 1-2.で完成させる行 (ヒント: subqueueにiを「加える」)\n",
        "#     visited[i] # 1-2.で完成させる行\n",
        "```\n",
        "  - **ここの先頭のコメント命令をそれぞれ削除し、2つの「1-2.で完成させる行」に何を入れるべきか考えて、実際に次の出力が得られるようにしよう。うまく行ったら次のステップへ。**\n",
        "```\n",
        "0 [1]\n",
        "[True, True, False, False, False, False, False, False, False, False]\n",
        "```"
      ]
    },
    {
      "cell_type": "code",
      "metadata": {
        "id": "BGgWNcwZpZ00",
        "colab": {
          "base_uri": "https://localhost:8080/",
          "height": 371
        },
        "outputId": "b8380d40-4eb3-43f9-9110-fb82d9404b45"
      },
      "source": [
        "from collections import defaultdict \n",
        "import matplotlib.pyplot as plt\n",
        "import networkx as nx\n",
        "\n",
        "# 迷路をグラフとして保持するクラス\n",
        "class Graph: \n",
        "  \n",
        "    # コンストラクタ（クラスを初期化する） \n",
        "    def __init__(self): \n",
        "  \n",
        "        # pythonのcollectionsから辞書型の変数を宣言し、このクラスのメンバ変数として定義\n",
        "        self.graph = defaultdict(list) \n",
        "  \n",
        "    # u番目のノードとv番目のノードの間に双方向のエッジを張る\n",
        "    def addEdge(self, u, v): \n",
        "        self.graph[u].append(v) \n",
        "        self.graph[v].append(u) \n",
        "\n",
        "    # Depth First Search (深さ優先探索) でoriginノードからdestinationノードまで探索 \n",
        "    def DFS(self, o, d): \n",
        "  \n",
        "        # ノードそれぞれを訪問したことがあるかを示すリスト\n",
        "        # 最初は全て訪問したことがないので False のみ \n",
        "        visited = [False] * (len(self.graph)) \n",
        "  \n",
        "        # オープンリスト\n",
        "        queue = [] \n",
        "  \n",
        "        # オープンリストの要素第1号としてスタート地点を追加\n",
        "        queue.append(o) \n",
        "        # スタート地点を訪問済みにする\n",
        "        visited[o] = True# 1-1.で完成させる行\n",
        "\n",
        "        # queueが空でない限りループ  \n",
        "        while queue: \n",
        "  \n",
        "            # オープンリストの先頭のノードを抜き出す\n",
        "            s = queue.pop(0) \n",
        "            # クローズドリストに追加する代わりに辿った順序を出力していく\n",
        "            print (s, end = \" \") \n",
        "            # 目的地を出力した時点で終了\n",
        "            if s == d:\n",
        "                print (\"\\n\")\n",
        "                return\n",
        "  \n",
        "            # 👆で抜き出されたノードから繋がっているノードを調べていく\n",
        "            subqueue = []\n",
        "            for i in self.graph[s]: \n",
        "                # まだ訪れたことの無いノードをサブのオープンリストに追加\n",
        "                # オープンリストに加えた時点で訪問済みとする\n",
        "                if visited[i] == False:\n",
        "                    subqueue.append(i)# 1-2.で完成させる行 (ヒント: subqueueにiを「加える」)\n",
        "                    visited[i] = True# 1-2.で完成させる行\n",
        "                print(subqueue)\n",
        "                print(visited)\n",
        "\n",
        "if __name__ == \"__main__\":\n",
        "  \n",
        "    # グラフを作成する\n",
        "    # 講義で表示されているとおりのグラフをここで作成する \n",
        "    # (Sを0、Gを9とし、その他のノードは番号通り1から8までとする)\n",
        "    g = Graph() \n",
        "    g.addEdge(0, 1)\n",
        "    g.addEdge(1, 4)\n",
        "    g.addEdge(1, 2)\n",
        "    g.addEdge(2, 3)\n",
        "    g.addEdge(2, 4)\n",
        "    g.addEdge(4, 7)\n",
        "    g.addEdge(7, 6)\n",
        "    g.addEdge(7, 5)\n",
        "    g.addEdge(5, 8)\n",
        "    g.addEdge(5, 9)\n",
        "\n",
        "    # グラフの図示にはnetworkxを用いる\n",
        "    # 上記で作成したGraphクラスのインスタンスにあるメンバ変数のgraphをnetworkxのグラフ表現に変換して表示\n",
        "    nx.draw(nx.convert.to_networkx_graph(g.graph), with_labels=True)\n",
        "    plt.show()\n",
        "\n",
        "    # 深さ優先探索の実行\n",
        "    print (\"Following is Depth First Traversal (starting from vertex 0)\") \n",
        "    g.DFS(0,9)\n"
      ],
      "execution_count": 25,
      "outputs": [
        {
          "output_type": "display_data",
          "data": {
            "image/png": "[encoded data removed]",
            "text/plain": [
              "<Figure size 432x288 with 1 Axes>"
            ]
          },
          "metadata": {}
        },
        {
          "output_type": "stream",
          "name": "stdout",
          "text": [
            "Following is Depth First Traversal (starting from vertex 0)\n",
            "0 [1]\n",
            "[True, True, False, False, False, False, False, False, False, False]\n"
          ]
        }
      ]
    },
    {
      "cell_type": "markdown",
      "metadata": {
        "id": "LjCyshOV5XgK"
      },
      "source": [
        "### 1-3. DFSを完成させよう（2/2）\n",
        "- ここまできたらあと少しでDFSが完成する。\n",
        "- **1. 深さ優先探索編 の最終課題：DFSを完成させて実行してみよう。**\n",
        "  - 「1-3.で何かを埋める行」の1行を埋めるとDFSで探索できるようになり、講義時に結果として紹介した通りのリストが訪問したノードとして標準出力される。\n",
        "  - ただし、講義では右から順番に訪問したリストとなっていて、この演習では逆に左から順番に並んでいる点に注意しよう。\n",
        "  - 直前の行の「xxxx」に入る日本語を講義を思い出しながら考えてみて、「1-3.で何かを埋める行」を完成させてみよう。\n",
        "- **実行結果として、深さ優先探索で訪問したリストの順序が講義での例と同じになったらTAに見せること（誰か1名でよい）。TAから2.幅優先探索編のURLを案内される。**"
      ]
    },
    {
      "cell_type": "code",
      "metadata": {
        "id": "dY-HHBT_5O1L",
        "colab": {
          "base_uri": "https://localhost:8080/",
          "height": 354
        },
        "outputId": "d83d5fce-189b-4aed-c192-8761bffe1f01"
      },
      "source": [
        "from collections import defaultdict \n",
        "import matplotlib.pyplot as plt\n",
        "import networkx as nx\n",
        "\n",
        "# 迷路をグラフとして保持するクラス\n",
        "class Graph: \n",
        "  \n",
        "    # コンストラクタ（クラスを初期化する） \n",
        "    def __init__(self): \n",
        "  \n",
        "        # pythonのcollectionsから辞書型の変数を宣言し、このクラスのメンバ変数として定義\n",
        "        self.graph = defaultdict(list) \n",
        "  \n",
        "    # u番目のノードとv番目のノードの間に双方向のエッジを張る\n",
        "    def addEdge(self, u, v): \n",
        "        self.graph[u].append(v) \n",
        "        self.graph[v].append(u) \n",
        "\n",
        "    # Depth First Search (深さ優先探索) でoriginノードからdestinationノードまで探索 \n",
        "    def DFS(self, o, d): \n",
        "  \n",
        "        # ノードそれぞれを訪問したことがあるかを示すリスト\n",
        "        # 最初は全て訪問したことがないので False のみ \n",
        "        visited = [False] * (len(self.graph)) \n",
        "  \n",
        "        # オープンリスト\n",
        "        queue = [] \n",
        "  \n",
        "        # オープンリストの要素第1号としてスタート地点を追加\n",
        "        queue.append(o) \n",
        "        # スタート地点を訪問済みにする\n",
        "        visited[o] = True# 1-1.で完成させる行\n",
        "\n",
        "        # queueが空でない限りループ  \n",
        "        while queue: \n",
        "  \n",
        "            # オープンリストの先頭のノードを抜き出す\n",
        "            s = queue.pop(0) \n",
        "            # クローズドリストに追加する代わりに辿った順序を出力していく\n",
        "            print (s, end = \" \") \n",
        "            # 目的地を出力した時点で終了\n",
        "            if s == d:\n",
        "                print (\"\\n\")\n",
        "                return\n",
        "  \n",
        "            # 👆で抜き出されたノードから繋がっているノードを調べていく\n",
        "            subqueue = []\n",
        "            for i in self.graph[s]: \n",
        "                # まだ訪れたことの無いノードをサブのオープンリストに追加\n",
        "                # オープンリストに加えた時点で訪問済みとする\n",
        "                if visited[i] == False:\n",
        "                    subqueue.append(i)# 1-2.で完成させる行 (ヒント: subqueueにiを「加える」)\n",
        "                    visited[i] = True# 1-2.で完成させる行\n",
        "            # サブのオープンリストを本体のオープンリストの「xxxx」に追加\n",
        "            #--------- 1-3.で何かを埋める行 ---------# \n",
        "            if subqueue:\n",
        "              sub = subqueue.pop(0)\n",
        "              queue.append(sub)\n",
        "\n",
        "if __name__ == \"__main__\":\n",
        "  \n",
        "    # グラフを作成する\n",
        "    # 講義で表示されているとおりのグラフをここで作成する \n",
        "    # (Sを0、Gを9とし、その他のノードは番号通り1から8までとする)\n",
        "    g = Graph() \n",
        "    g.addEdge(0, 1)\n",
        "    g.addEdge(1, 4)\n",
        "    g.addEdge(1, 2)\n",
        "    g.addEdge(2, 3)\n",
        "    g.addEdge(2, 4)\n",
        "    g.addEdge(4, 7)\n",
        "    g.addEdge(7, 6)\n",
        "    g.addEdge(7, 5)\n",
        "    g.addEdge(5, 8)\n",
        "    g.addEdge(5, 9)\n",
        "\n",
        "    # グラフの図示にはnetworkxを用いる\n",
        "    # 上記で作成したGraphクラスのインスタンスにあるメンバ変数のgraphをnetworkxのグラフ表現に変換して表示\n",
        "    nx.draw(nx.convert.to_networkx_graph(g.graph), with_labels=True)\n",
        "    plt.show()\n",
        "\n",
        "    # 深さ優先探索の実行\n",
        "    print (\"Following is Depth First Traversal (starting from vertex 0)\") \n",
        "    g.DFS(0,9)\n"
      ],
      "execution_count": 26,
      "outputs": [
        {
          "output_type": "display_data",
          "data": {
            "image/png": "[encoded data removed]",
            "text/plain": [
              "<Figure size 432x288 with 1 Axes>"
            ]
          },
          "metadata": {}
        },
        {
          "output_type": "stream",
          "name": "stdout",
          "text": [
            "Following is Depth First Traversal (starting from vertex 0)\n",
            "0 1 4 7 6 "
          ]
        }
      ]
    },
    {
      "cell_type": "code",
      "metadata": {
        "id": "HCJoJIIZScEa"
      },
      "source": [
        ""
      ],
      "execution_count": null,
      "outputs": []
    }
  ]
}