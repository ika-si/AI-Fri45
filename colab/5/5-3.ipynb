{
  "cells": [
    {
      "cell_type": "code",
      "execution_count": 1,
      "metadata": {
        "id": "6VtyjuA5-xKq",
        "outputId": "5e8f1ef3-a257-488f-ae7e-31fd0833899a",
        "colab": {
          "base_uri": "https://localhost:8080/"
        }
      },
      "outputs": [
        {
          "output_type": "stream",
          "name": "stdout",
          "text": [
            "--2021-12-10 06:16:02--  https://raw.githubusercontent.com/utokyo-ipp/utokyo-ipp.github.io/master/colab/5/factorial.py\n",
            "Resolving raw.githubusercontent.com (raw.githubusercontent.com)... 185.199.108.133, 185.199.109.133, 185.199.110.133, ...\n",
            "Connecting to raw.githubusercontent.com (raw.githubusercontent.com)|185.199.108.133|:443... connected.\n",
            "HTTP request sent, awaiting response... 200 OK\n",
            "Length: 109 [text/plain]\n",
            "Saving to: ‘./factorial.py’\n",
            "\n",
            "\rfactorial.py          0%[                    ]       0  --.-KB/s               \rfactorial.py        100%[===================>]     109  --.-KB/s    in 0s      \n",
            "\n",
            "2021-12-10 06:16:03 (6.49 MB/s) - ‘./factorial.py’ saved [109/109]\n",
            "\n",
            "--2021-12-10 06:16:03--  https://raw.githubusercontent.com/utokyo-ipp/utokyo-ipp.github.io/master/colab/5/fig/py_conv_1.png\n",
            "Resolving raw.githubusercontent.com (raw.githubusercontent.com)... 185.199.108.133, 185.199.109.133, 185.199.110.133, ...\n",
            "Connecting to raw.githubusercontent.com (raw.githubusercontent.com)|185.199.108.133|:443... connected.\n",
            "HTTP request sent, awaiting response... 200 OK\n",
            "Length: 27636 (27K) [image/png]\n",
            "Saving to: ‘fig/py_conv_1.png’\n",
            "\n",
            "py_conv_1.png       100%[===================>]  26.99K  --.-KB/s    in 0.001s  \n",
            "\n",
            "2021-12-10 06:16:03 (24.5 MB/s) - ‘fig/py_conv_1.png’ saved [27636/27636]\n",
            "\n",
            "--2021-12-10 06:16:03--  https://raw.githubusercontent.com/utokyo-ipp/utokyo-ipp.github.io/master/colab/5/fig/py_conv_2.png\n",
            "Resolving raw.githubusercontent.com (raw.githubusercontent.com)... 185.199.108.133, 185.199.109.133, 185.199.110.133, ...\n",
            "Connecting to raw.githubusercontent.com (raw.githubusercontent.com)|185.199.108.133|:443... connected.\n",
            "HTTP request sent, awaiting response... 200 OK\n",
            "Length: 59488 (58K) [image/png]\n",
            "Saving to: ‘fig/py_conv_2.png’\n",
            "\n",
            "py_conv_2.png       100%[===================>]  58.09K  --.-KB/s    in 0.01s   \n",
            "\n",
            "2021-12-10 06:16:03 (4.99 MB/s) - ‘fig/py_conv_2.png’ saved [59488/59488]\n",
            "\n",
            "--2021-12-10 06:16:03--  https://raw.githubusercontent.com/utokyo-ipp/utokyo-ipp.github.io/master/colab/5/fig/py_open_1.png\n",
            "Resolving raw.githubusercontent.com (raw.githubusercontent.com)... 185.199.108.133, 185.199.109.133, 185.199.110.133, ...\n",
            "Connecting to raw.githubusercontent.com (raw.githubusercontent.com)|185.199.108.133|:443... connected.\n",
            "HTTP request sent, awaiting response... 200 OK\n",
            "Length: 36596 (36K) [image/png]\n",
            "Saving to: ‘fig/py_open_1.png’\n",
            "\n",
            "py_open_1.png       100%[===================>]  35.74K  --.-KB/s    in 0.002s  \n",
            "\n",
            "2021-12-10 06:16:03 (18.3 MB/s) - ‘fig/py_open_1.png’ saved [36596/36596]\n",
            "\n",
            "--2021-12-10 06:16:03--  https://raw.githubusercontent.com/utokyo-ipp/utokyo-ipp.github.io/master/colab/5/fig/py_open_2.png\n",
            "Resolving raw.githubusercontent.com (raw.githubusercontent.com)... 185.199.110.133, 185.199.108.133, 185.199.111.133, ...\n",
            "Connecting to raw.githubusercontent.com (raw.githubusercontent.com)|185.199.110.133|:443... connected.\n",
            "HTTP request sent, awaiting response... 200 OK\n",
            "Length: 22815 (22K) [image/png]\n",
            "Saving to: ‘fig/py_open_2.png’\n",
            "\n",
            "py_open_2.png       100%[===================>]  22.28K  --.-KB/s    in 0.001s  \n",
            "\n",
            "2021-12-10 06:16:04 (15.0 MB/s) - ‘fig/py_open_2.png’ saved [22815/22815]\n",
            "\n"
          ]
        }
      ],
      "source": [
        "##================================================\n",
        "## このセルを最初に実行せよ---Run this cell first.\n",
        "##================================================\n",
        "!wget -P . https://raw.githubusercontent.com/utokyo-ipp/utokyo-ipp.github.io/master/colab/5/factorial.py\n",
        "!wget -P fig https://raw.githubusercontent.com/utokyo-ipp/utokyo-ipp.github.io/master/colab/5/fig/py_conv_1.png\n",
        "!wget -P fig https://raw.githubusercontent.com/utokyo-ipp/utokyo-ipp.github.io/master/colab/5/fig/py_conv_2.png\n",
        "!wget -P fig https://raw.githubusercontent.com/utokyo-ipp/utokyo-ipp.github.io/master/colab/5/fig/py_open_1.png\n",
        "!wget -P fig https://raw.githubusercontent.com/utokyo-ipp/utokyo-ipp.github.io/master/colab/5/fig/py_open_2.png"
      ]
    },
    {
      "cell_type": "markdown",
      "metadata": {
        "id": "q9waO8uk-xKs"
      },
      "source": [
        "# 5-3. NumPyライブラリ\n",
        "\n",
        "NumPyについて説明します。\n",
        "\n",
        "参考\n",
        "\n",
        "- https://docs.scipy.org/doc/numpy/user/quickstart.html\n",
        "- https://docs.scipy.org/doc/numpy/user/basics.html\n",
        "\n",
        "**NumPy**とは、多次元配列を効率的に扱うライブラリです。\n",
        "Pythonの標準ライブラリではありませんが、科学技術計算や機械学習など、ベクトルや行列の演算が多用される分野では、事実上の標準ライブラリとしての地位を確立しています。\n",
        "\n",
        "NumPyを用いるには、まず、**`numpy`** モジュールをインポートする必要があります。\n",
        "慣習として、`np` と別名をつけて利用されます。"
      ]
    },
    {
      "cell_type": "code",
      "execution_count": 2,
      "metadata": {
        "id": "aJox-CHG-xKt"
      },
      "outputs": [],
      "source": [
        "import numpy as np"
      ]
    },
    {
      "cell_type": "markdown",
      "metadata": {
        "id": "Jepqvang-xKt"
      },
      "source": [
        "NumPyでは、Python標準の数値やリストの代わりに、特別な数値や配列を用いることで、格段に効率的な配列演算を実現します。\n",
        "以下では、配列の基本的な操作や機能を説明します。"
      ]
    },
    {
      "cell_type": "markdown",
      "metadata": {
        "id": "eiJQWsWX-xKt"
      },
      "source": [
        "## 配列の構築\n",
        "\n",
        "**配列**とは、特定の型の値の並びです。\n",
        "**`numpy.array()`** 関数で構築できます。\n",
        "このとき、配列の要素はPython標準のリストやタプルで指定します。\n",
        "どちらを用いて作成しても全く同じ配列を作成できます。"
      ]
    },
    {
      "cell_type": "code",
      "execution_count": 3,
      "metadata": {
        "id": "Gl0ofKjr-xKt",
        "outputId": "2dc16052-7888-483e-8e8e-15cbcb2f2b29",
        "colab": {
          "base_uri": "https://localhost:8080/"
        }
      },
      "outputs": [
        {
          "output_type": "stream",
          "name": "stdout",
          "text": [
            "[1 2 3]\n",
            "[1 2 3]\n"
          ]
        }
      ],
      "source": [
        "a = np.array([1,2,3]) # リストから配列作成\n",
        "print(a)\n",
        "b = np.array((1,2,3)) # タプルからの配列作成\n",
        "print(b)"
      ]
    },
    {
      "cell_type": "markdown",
      "metadata": {
        "id": "STC4Cq1c-xKu"
      },
      "source": [
        "`print` の結果はリストと似ていますが、要素が `,` ではなく空白で区切られているに注意してください。\n",
        "`print` ではなく、式の評価結果の場合、より違いが明示されます。"
      ]
    },
    {
      "cell_type": "code",
      "execution_count": 4,
      "metadata": {
        "id": "GjalZtNv-xKu",
        "outputId": "0319467b-ec60-497b-c1f3-bb79747ecf02",
        "colab": {
          "base_uri": "https://localhost:8080/"
        }
      },
      "outputs": [
        {
          "output_type": "execute_result",
          "data": {
            "text/plain": [
              "array([1, 2, 3])"
            ]
          },
          "metadata": {},
          "execution_count": 4
        }
      ],
      "source": [
        "a"
      ]
    },
    {
      "cell_type": "markdown",
      "metadata": {
        "id": "h8Z0f2mv-xKv"
      },
      "source": [
        "配列は **`numpy.ndarray`** というデータ型によって実現されています。\n",
        "組み込み関数 `type()` を使うと、データ型を調べられます。"
      ]
    },
    {
      "cell_type": "code",
      "execution_count": 5,
      "metadata": {
        "id": "5BlZkeMx-xKv",
        "outputId": "be79931a-ae48-4ae1-e101-0915fdcb279b",
        "colab": {
          "base_uri": "https://localhost:8080/"
        }
      },
      "outputs": [
        {
          "output_type": "execute_result",
          "data": {
            "text/plain": [
              "numpy.ndarray"
            ]
          },
          "metadata": {},
          "execution_count": 5
        }
      ],
      "source": [
        "type(np.array([1,2,3,4,5])) # 配列の型 "
      ]
    },
    {
      "cell_type": "code",
      "execution_count": 6,
      "metadata": {
        "id": "ansc8eBo-xKv",
        "outputId": "bf67acc4-0b2b-4fef-9257-d5a5575a0cda",
        "colab": {
          "base_uri": "https://localhost:8080/"
        }
      },
      "outputs": [
        {
          "output_type": "execute_result",
          "data": {
            "text/plain": [
              "list"
            ]
          },
          "metadata": {},
          "execution_count": 6
        }
      ],
      "source": [
        "type([1,2,3,4,5])"
      ]
    },
    {
      "cell_type": "markdown",
      "metadata": {
        "id": "6BNBIRol-xKw"
      },
      "source": [
        "`array()` が、リストではなく `ndarray` を返していることがわかります。\n",
        "\n",
        "### 要素型\n",
        "\n",
        "配列の要素を構成する値には幾つかの型がありますが、次の4つの型を知っていればとりあえずは十分です。\n",
        "\n",
        "| 型名       | 説明           |\n",
        "|---         |---             |\n",
        "| **`numpy.int32`**      | 整数（32-bit）を表す型   |\n",
        "| **`numpy.float64`**    | 実数（64-bit）を表す型   |\n",
        "| **`numpy.complex128`** | 複素数（64-bit実数の組）を表す型 |\n",
        "| **`numpy.bool_`**      | 真理値を表す型 |\n",
        "\n",
        "配列は、リストと異なり、型の異なる要素を混在させることはできません。\n",
        "\n",
        "`array()` の `dtype` 引数に、要素型を表すオブジェクトや文字列値を与えることで、指定された要素型の配列を構築できます。"
      ]
    },
    {
      "cell_type": "code",
      "execution_count": 7,
      "metadata": {
        "id": "n03rc4SX-xKw",
        "outputId": "8ae0b06c-12b0-4b9c-babb-940ffd597a56",
        "colab": {
          "base_uri": "https://localhost:8080/"
        }
      },
      "outputs": [
        {
          "output_type": "stream",
          "name": "stdout",
          "text": [
            "[-1  0  1]\n"
          ]
        }
      ],
      "source": [
        "print(np.array([-1,0,1], dtype=np.int32)) # np.int32の代わりに'int32'でも同じ"
      ]
    },
    {
      "cell_type": "markdown",
      "metadata": {
        "id": "vfrWZNZ9-xKw"
      },
      "source": [
        "実数には、小数点が付与されて印字されます。"
      ]
    },
    {
      "cell_type": "code",
      "execution_count": 8,
      "metadata": {
        "id": "70EZfEIE-xKw",
        "outputId": "fb0107bd-9d53-490b-ad93-023381e97257",
        "colab": {
          "base_uri": "https://localhost:8080/"
        }
      },
      "outputs": [
        {
          "output_type": "stream",
          "name": "stdout",
          "text": [
            "[-1.  0.  1.]\n"
          ]
        }
      ],
      "source": [
        "print(np.array([-1,0,1], dtype=np.float64)) # np.float64の代わりに'float64'でも同じ"
      ]
    },
    {
      "cell_type": "markdown",
      "metadata": {
        "id": "L1V3G3qA-xKw"
      },
      "source": [
        "複素数は実部と虚部を表す実数の組であり、虚部には `j` が付与されて印字されます。"
      ]
    },
    {
      "cell_type": "code",
      "execution_count": 9,
      "metadata": {
        "id": "m6p2My7L-xKw",
        "outputId": "8b006e8a-0e4d-4f4d-df6b-238b6bab146c",
        "colab": {
          "base_uri": "https://localhost:8080/"
        }
      },
      "outputs": [
        {
          "output_type": "stream",
          "name": "stdout",
          "text": [
            "[-1.+0.j  0.+0.j  1.+0.j]\n"
          ]
        }
      ],
      "source": [
        "print(np.array([-1,0,1], dtype=np.complex128)) # np.complex128の代わりに'complex128'でも同じ"
      ]
    },
    {
      "cell_type": "markdown",
      "metadata": {
        "id": "cZBh_gR4-xKx"
      },
      "source": [
        "数値から真理値への変換では、`0` が `False` で、`0` 以外が `True` になります。"
      ]
    },
    {
      "cell_type": "code",
      "execution_count": 10,
      "metadata": {
        "id": "BxNMbR76-xKx",
        "outputId": "61feaa90-394b-4d69-b34c-1177bbca5606",
        "colab": {
          "base_uri": "https://localhost:8080/"
        }
      },
      "outputs": [
        {
          "output_type": "stream",
          "name": "stdout",
          "text": [
            "[ True False  True]\n"
          ]
        }
      ],
      "source": [
        "print(np.array([-1,0,1], dtype=np.bool_)) # np.bool_の代わりに'bool'でも同じ"
      ]
    },
    {
      "cell_type": "markdown",
      "metadata": {
        "id": "2KNwDxhj-xKx"
      },
      "source": [
        "### 多次元配列\n",
        "\n",
        "**多次元配列**は、配列の中に配列がある入れ子の配列です。\n",
        "入れ子のリストやタプルを `numpy.array()` に渡すことで構築できます。"
      ]
    },
    {
      "cell_type": "code",
      "execution_count": 11,
      "metadata": {
        "id": "kGzNzrpi-xKx",
        "outputId": "2ca42f69-978f-47cf-873b-c115f86cf780",
        "colab": {
          "base_uri": "https://localhost:8080/"
        }
      },
      "outputs": [
        {
          "output_type": "stream",
          "name": "stdout",
          "text": [
            "[[1 2]\n",
            " [3 4]]\n"
          ]
        }
      ],
      "source": [
        "print(np.array([[1,2],[3,4]])) # 2次元配列の構築"
      ]
    },
    {
      "cell_type": "code",
      "execution_count": 12,
      "metadata": {
        "id": "uTmAcRTa-xKx",
        "outputId": "2321fc60-c936-49d3-b051-1abff1908a90",
        "colab": {
          "base_uri": "https://localhost:8080/"
        }
      },
      "outputs": [
        {
          "output_type": "stream",
          "name": "stdout",
          "text": [
            "[[[1 2]\n",
            "  [3 4]]\n",
            "\n",
            " [[5 6]\n",
            "  [7 8]]]\n"
          ]
        }
      ],
      "source": [
        "print(np.array([[[1,2],[3,4]],[[5,6],[7,8]]])) # 3次元配列の構築"
      ]
    },
    {
      "cell_type": "markdown",
      "metadata": {
        "id": "f8tPLBZo-xKx"
      },
      "source": [
        "上の例からわかるように、2次元配列は行列のように、3次元配列は行列の配列のように印字されます。\n",
        "\n",
        "多次元配列は、要素となる配列の長さが等しいことが想定されます。\n",
        "つまり、2次元配列は、行列のように各行の長さが等しくなければなりません。"
      ]
    },
    {
      "cell_type": "code",
      "execution_count": 13,
      "metadata": {
        "id": "42JHAaC0-xKx",
        "outputId": "8f9744a2-ef6f-4196-fd26-1137afcd9eb9",
        "colab": {
          "base_uri": "https://localhost:8080/"
        }
      },
      "outputs": [
        {
          "output_type": "stream",
          "name": "stdout",
          "text": [
            "[list([1, 2]) list([3])]\n"
          ]
        },
        {
          "output_type": "stream",
          "name": "stderr",
          "text": [
            "/usr/local/lib/python3.7/dist-packages/ipykernel_launcher.py:1: VisibleDeprecationWarning: Creating an ndarray from ragged nested sequences (which is a list-or-tuple of lists-or-tuples-or ndarrays with different lengths or shapes) is deprecated. If you meant to do this, you must specify 'dtype=object' when creating the ndarray\n",
            "  \"\"\"Entry point for launching an IPython kernel.\n"
          ]
        }
      ],
      "source": [
        "print(np.array([[1,2],[3]])) # 行の長さが異なる場合"
      ]
    },
    {
      "cell_type": "markdown",
      "metadata": {
        "id": "wPBLhkBD-xKx"
      },
      "source": [
        "このように行の長さが異なる場合は、多次元配列とは見做されません。\n",
        "\n",
        "多次元配列の各次元の長さの組を、多次元配列の**形** (shape) と呼びます。\n",
        "特に2次元配列の場合、行列と同様に、行数（内側にある配列の数）と列数（内側にある配列の要素数）の組を使って、行数×列数で形を表記します。\n",
        "\n",
        "1次元配列に対して **`reshape()`** メソッドを使うと、引数で指定された形の多次元配列に変換することができます。"
      ]
    },
    {
      "cell_type": "code",
      "execution_count": 14,
      "metadata": {
        "id": "HkBMairF-xKx",
        "outputId": "5488d4a9-23a2-475b-8d19-d9558fa73234",
        "colab": {
          "base_uri": "https://localhost:8080/"
        }
      },
      "outputs": [
        {
          "output_type": "execute_result",
          "data": {
            "text/plain": [
              "array([[0, 1, 2],\n",
              "       [3, 4, 5]])"
            ]
          },
          "metadata": {},
          "execution_count": 14
        }
      ],
      "source": [
        "a1 = np.array([0, 1, 2, 3, 4, 5]) # 1次元配列\n",
        "a2 = a1.reshape(2,3)              # 2×3の2次元配列\n",
        "a2"
      ]
    },
    {
      "cell_type": "markdown",
      "metadata": {
        "id": "2IYGTgT4-xKx"
      },
      "source": [
        "ここで、`reshape()` を適用する前後の配列（ここでは `a1` と `a2`）は、内部的にデータを共有していることに注意してください。\n",
        "つまり、`a1` の要素を更新すると、`a2` にも影響を及ぼします。"
      ]
    },
    {
      "cell_type": "code",
      "execution_count": 15,
      "metadata": {
        "id": "8Q8iDSoY-xKy",
        "outputId": "59611f76-6248-4297-8ea7-739b66b2461d",
        "colab": {
          "base_uri": "https://localhost:8080/"
        }
      },
      "outputs": [
        {
          "output_type": "stream",
          "name": "stdout",
          "text": [
            "[0 6 2 3 4 5]\n",
            "[[0 6 2]\n",
            " [3 4 5]]\n"
          ]
        }
      ],
      "source": [
        "a1[1] = 6\n",
        "print(a1)\n",
        "print(a2)"
      ]
    },
    {
      "cell_type": "markdown",
      "metadata": {
        "id": "nyRCEv7t-xKy"
      },
      "source": [
        "**`ravel()`** メソッドを使うと、多次元配列を1次元配列に戻すことができます。"
      ]
    },
    {
      "cell_type": "code",
      "execution_count": 16,
      "metadata": {
        "id": "YD7byeZf-xKy",
        "outputId": "25ef661f-8f06-4e25-f8cb-b77a9543cc0b",
        "colab": {
          "base_uri": "https://localhost:8080/"
        }
      },
      "outputs": [
        {
          "output_type": "stream",
          "name": "stdout",
          "text": [
            "[[0 1 2]\n",
            " [3 4 5]]\n",
            "[0 1 2 3 4 5]\n"
          ]
        }
      ],
      "source": [
        "a = np.array([0, 1, 2, 3, 4, 5]).reshape(2,3)\n",
        "print(a)\n",
        "print(a.ravel())"
      ]
    },
    {
      "cell_type": "markdown",
      "metadata": {
        "id": "ClW0irCR-xKy"
      },
      "source": [
        "`ravel()` の結果も、`reshape()` と同様に、元の配列と要素を共有します。"
      ]
    },
    {
      "cell_type": "code",
      "execution_count": 17,
      "metadata": {
        "id": "Ce01jmrx-xKy",
        "outputId": "388e9d24-5197-4a12-b742-86ff227cab97",
        "colab": {
          "base_uri": "https://localhost:8080/"
        }
      },
      "outputs": [
        {
          "output_type": "stream",
          "name": "stdout",
          "text": [
            "[0 6 2 3 4 5]\n"
          ]
        }
      ],
      "source": [
        "elems = np.array([0, 1, 2, 3, 4, 5])\n",
        "a = elems.reshape(2,3).ravel() # ravel()は要素をelemsと共有\n",
        "elems[1] = 6\n",
        "print(a)"
      ]
    },
    {
      "cell_type": "markdown",
      "metadata": {
        "id": "XsVvKehC-xKy"
      },
      "source": [
        "なお、要素をコピーして変換する **`flatten()`** メソッドもありますが、コピーしない `ravel()` の方が効率的です。"
      ]
    },
    {
      "cell_type": "markdown",
      "metadata": {
        "id": "oqVUPxGo-xKy"
      },
      "source": [
        "### ▲**配列のデータ属性**\n",
        "\n",
        "配列はオブジェクトであり、その配列に関する様々な情報を属性として保持します。\n",
        "（オブジェクトの属性については6-3に簡単な説明があります。）\n",
        "配列が持つ代表的なデータ属性（メソッド以外の属性）を次の表にまとめます。\n",
        "\n",
        "| 属性 | 意味 |\n",
        "|---   |---   |\n",
        "| `a.dtype` | 配列 `a` の要素型 |\n",
        "| `a.shape` | 配列 `a` の形（各次元の長さのタプル）|\n",
        "| `a.ndim` | 配列 `a` の次元数（`len(a.shape)` と等しい）|\n",
        "| `a.size` | 配列 `a` の要素数（`a.shape` の総乗と等しい）|\n",
        "| `a.flat` | 配列 `a` の1次元表現（`a.ravel()` と等しい）|\n",
        "| `a.T` | 配列 `a` を転置した配列（`a` と要素を共有）|"
      ]
    },
    {
      "cell_type": "markdown",
      "metadata": {
        "id": "u5coLZbO-xKy"
      },
      "source": [
        "## 配列要素を生成する構築関数\n",
        "\n",
        "要素を生成して配列を構築する代表的な関数を紹介します。\n",
        "特に断りが無い場合、ここで紹介する関数は、`array()` と同様に `dtype` 引数で要素型を指定可能です。\n",
        "\n",
        "### `arange`\n",
        "\n",
        "**`numpy.arange()`** は、組み込み関数 `range()` の配列版です（`arange` は array range の略）。\n",
        "開始値・終了値・刻み幅を引数にとります。\n",
        "デフォルトの開始値は `0`、刻み幅は `1` です。\n",
        "`range()` と違って、引数の値は整数に限定されません。\n"
      ]
    },
    {
      "cell_type": "code",
      "execution_count": 18,
      "metadata": {
        "id": "jbfc_vLN-xKy",
        "outputId": "6cd08947-63dd-409f-d7ab-ad7c79b10668",
        "colab": {
          "base_uri": "https://localhost:8080/"
        }
      },
      "outputs": [
        {
          "output_type": "stream",
          "name": "stdout",
          "text": [
            "[0 1 2]\n",
            "[0.  0.2 0.4 0.6 0.8]\n"
          ]
        }
      ],
      "source": [
        "print(np.arange(3)) # range(3)に対応する配列\n",
        "print(np.arange(0, 1, 0.2)) # 0を開始値として0.2刻みで1未満の要素を生成"
      ]
    },
    {
      "cell_type": "markdown",
      "metadata": {
        "id": "UllcvXAC-xKy"
      },
      "source": [
        "### `linspace`\n",
        "**`numpy.linspace()`** 関数は、範囲を等分割した値からなる配列を生成します。\n",
        "第1引数と第2引数には、それぞれ範囲の開始値と終了値、第3引数には分割数を指定します。"
      ]
    },
    {
      "cell_type": "code",
      "execution_count": 19,
      "metadata": {
        "id": "SxOPkKFK-xKy",
        "outputId": "b2815c4e-f560-4a7b-f8b8-d6aed37edf96",
        "colab": {
          "base_uri": "https://localhost:8080/"
        }
      },
      "outputs": [
        {
          "output_type": "stream",
          "name": "stdout",
          "text": [
            "[0.         0.33333333 0.66666667 1.        ]\n"
          ]
        }
      ],
      "source": [
        "print(np.linspace(0, 1, 4)) # 0から1の値を4分割した値を要素に持つ配列"
      ]
    },
    {
      "cell_type": "markdown",
      "metadata": {
        "id": "YkNTt-zd-xKy"
      },
      "source": [
        "### `zeros` と `ones`\n",
        "**`numpy.zeros()`** 関数は、`0` からなる配列を生成します。\n",
        "同様に、**`numpy.ones()`** 関数は、`1` からなる配列を生成します。\n",
        "どちらも、生成される形を第1引数に取ります。\n",
        "デフォルトの要素型は、実数です。"
      ]
    },
    {
      "cell_type": "code",
      "execution_count": 20,
      "metadata": {
        "id": "EmJZEJgo-xKy",
        "outputId": "e9f4276f-1458-4fb2-87de-6710a63c6f95",
        "colab": {
          "base_uri": "https://localhost:8080/"
        }
      },
      "outputs": [
        {
          "output_type": "stream",
          "name": "stdout",
          "text": [
            "[0. 0. 0. 0.]\n",
            "[[0. 0. 0.]\n",
            " [0. 0. 0.]]\n",
            "[1. 1. 1. 1.]\n",
            "[[1. 1. 1.]\n",
            " [1. 1. 1.]]\n"
          ]
        }
      ],
      "source": [
        "print(np.zeros(4))     # 長さ4の1次元配列\n",
        "print(np.zeros((2,3))) # 2×3の2次元配列を生成\n",
        "print(np.ones(4))     # 長さ4の1次元配列\n",
        "print(np.ones((2,3))) # 2×3の2次元配列を生成"
      ]
    },
    {
      "cell_type": "markdown",
      "metadata": {
        "id": "tS34Pu83-xKy"
      },
      "source": [
        "### `random.rand`\n",
        "**`numpy.random.rand()`** 関数は、0 以上 1 未満の乱数からなる配列を生成します。\n",
        "引数には生成される配列の形を指定します。\n",
        "要素型は実数に限定されます。"
      ]
    },
    {
      "cell_type": "code",
      "execution_count": 21,
      "metadata": {
        "id": "AgUxftwc-xKz",
        "outputId": "66638ef8-96b3-4418-a6de-a9b7974e996b",
        "colab": {
          "base_uri": "https://localhost:8080/"
        }
      },
      "outputs": [
        {
          "output_type": "stream",
          "name": "stdout",
          "text": [
            "[0.70834208 0.4902729  0.13339463 0.20929778]\n",
            "[[0.8958777  0.53189117 0.78234755]\n",
            " [0.65229143 0.67570625 0.69166   ]]\n"
          ]
        }
      ],
      "source": [
        "print(np.random.rand(4))   # 長さ4の1次元配列\n",
        "print(np.random.rand(2,3)) # 2×3の2次元配列を生成"
      ]
    },
    {
      "cell_type": "markdown",
      "metadata": {
        "id": "woheMRbx-xKz"
      },
      "source": [
        "この他にも、**`numpy.random.randn()`**・**`numpy.random.binomial()`**・**`numpy.random.poisson()`** は、それぞれ、正規分布・二項分布・ポアソン分布の乱数からなる配列を生成します。"
      ]
    },
    {
      "cell_type": "markdown",
      "metadata": {
        "id": "wZ1KrRdz-xKz"
      },
      "source": [
        "## 練習\n",
        "\n",
        "引数に整数 $n$ を取り、$i$ から始まる連番の整数からなる配列を$i$番目 ($i\\ge 0$) の行として持つ $n\\times n$ の2次元配列を返す関数 `range_square_matrix()` を、`arange()` を用いて定義してください。\n",
        "\n",
        "たとえば、`range_square_matrix(3)` は、\n",
        "```\n",
        "[[0 1 2]\n",
        " [1 2 3]\n",
        " [2 3 4]]\n",
        "```\n",
        "と印字されるような2次元配列を返します。"
      ]
    },
    {
      "cell_type": "code",
      "execution_count": null,
      "metadata": {
        "id": "aEvoU6or-xKz"
      },
      "outputs": [],
      "source": [
        "def arange_square_matrix(n):\n",
        "    ..."
      ]
    },
    {
      "cell_type": "markdown",
      "metadata": {
        "id": "naBsnGfq-xKz"
      },
      "source": [
        "以下のセルを実行して、`True` が表示されることを確認してください。"
      ]
    },
    {
      "cell_type": "code",
      "execution_count": null,
      "metadata": {
        "tags": [
          "raises-exception"
        ],
        "id": "bCt5BQP--xKz"
      },
      "outputs": [],
      "source": [
        "print(all(map(all,(arange_square_matrix(3) == np.array([[0,1,2],[1,2,3],[2,3,4]])))))"
      ]
    },
    {
      "cell_type": "markdown",
      "metadata": {
        "id": "-O63vGw3-xKz"
      },
      "source": [
        "## 配列要素の操作\n",
        "\n",
        "### インデックスアクセス\n",
        "\n",
        "配列の要素には、リストの場合と同様に、`0` から始まるインデックスを使って参照できます。\n",
        "リストと同じく、配列の先頭要素のインデックスは `0`、最後の要素のインデックスは `-1` となります。"
      ]
    },
    {
      "cell_type": "code",
      "execution_count": null,
      "metadata": {
        "id": "6Wlz9v6O-xKz"
      },
      "outputs": [],
      "source": [
        "a = np.arange(3)\n",
        "print(a)"
      ]
    },
    {
      "cell_type": "code",
      "execution_count": null,
      "metadata": {
        "id": "wgRfyLgg-xKz"
      },
      "outputs": [],
      "source": [
        "a[0]"
      ]
    },
    {
      "cell_type": "code",
      "execution_count": null,
      "metadata": {
        "id": "hjzplgMc-xKz"
      },
      "outputs": [],
      "source": [
        "a[-1]"
      ]
    },
    {
      "cell_type": "code",
      "execution_count": null,
      "metadata": {
        "id": "UgFDPPhx-xKz"
      },
      "outputs": [],
      "source": [
        "a[-1] = 3 # 要素への代入もできる\n",
        "print(a)"
      ]
    },
    {
      "cell_type": "markdown",
      "metadata": {
        "id": "oqtkpAQU-xKz"
      },
      "source": [
        "多次元配列では、高次元（入れ子の外側）から順にインデックスを指定します。\n",
        "特に2次元配列、すなわち行列の場合は、行インデックスと列インデックスを順に指定します。"
      ]
    },
    {
      "cell_type": "code",
      "execution_count": null,
      "metadata": {
        "id": "Ku96pwRi-xKz"
      },
      "outputs": [],
      "source": [
        "a = np.arange(6).reshape(2,3)\n",
        "print(a)"
      ]
    },
    {
      "cell_type": "code",
      "execution_count": null,
      "metadata": {
        "id": "M-edIu9--xKz"
      },
      "outputs": [],
      "source": [
        "a[1,2] # 行と列のインデックスをまとめて指定"
      ]
    },
    {
      "cell_type": "code",
      "execution_count": null,
      "metadata": {
        "id": "HIVBvaf8-xKz"
      },
      "outputs": [],
      "source": [
        "a[1,2] = 6 # 要素への代入もできる\n",
        "print(a)"
      ]
    },
    {
      "cell_type": "markdown",
      "metadata": {
        "id": "Bm1OX2En-xKz"
      },
      "source": [
        "### スライス\n",
        "\n",
        "リストと同様に、配列の**スライス**を構築できます。"
      ]
    },
    {
      "cell_type": "code",
      "execution_count": null,
      "metadata": {
        "id": "ajMqYF2K-xKz"
      },
      "outputs": [],
      "source": [
        "a = np.arange(5)\n",
        "print(a)\n",
        "print(a[1:4])\n",
        "print(a[1:])\n",
        "print(a[:-2])\n",
        "print(a[::2])\n",
        "print(a[::-1])"
      ]
    },
    {
      "cell_type": "markdown",
      "metadata": {
        "id": "oOpQArIC-xKz"
      },
      "source": [
        "配列のスライスに対して代入すると、右辺の値がコピーされて、スライス元の配列にまとめて代入されます。"
      ]
    },
    {
      "cell_type": "code",
      "execution_count": null,
      "metadata": {
        "id": "pKb1yFYJ-xK0"
      },
      "outputs": [],
      "source": [
        "a = np.arange(5)\n",
        "print(a)\n",
        "a[1:4] = 6\n",
        "print(a)\n",
        "a = np.arange(5)\n",
        "a[::2] = 6\n",
        "print(a)"
      ]
    },
    {
      "cell_type": "markdown",
      "metadata": {
        "id": "1_XC0OYc-xK0"
      },
      "source": [
        "一方、リストに対しては、以下はエラーになります。"
      ]
    },
    {
      "cell_type": "code",
      "execution_count": null,
      "metadata": {
        "tags": [
          "raises-exception"
        ],
        "id": "wB4BMiVD-xK0"
      },
      "outputs": [],
      "source": [
        "a = [0,1,2,3,4]\n",
        "print(a)\n",
        "a[1:4] = 6"
      ]
    },
    {
      "cell_type": "code",
      "execution_count": null,
      "metadata": {
        "id": "Wbs4NSRM-xK0"
      },
      "outputs": [],
      "source": [
        "a = [0,1,2,3,4]\n",
        "print(a)\n",
        "a[1:4] = [6]\n",
        "print(a)"
      ]
    },
    {
      "cell_type": "markdown",
      "metadata": {
        "id": "Ib4n_6Ue-xK0"
      },
      "source": [
        "このように、配列のスライスに対する代入の振舞いは、リストの場合と異なることに注意してください。\n",
        "\n",
        "多次元配列に対しては、インデックスの参照と同様に、高い次元のスライスから順に並べて指定します。"
      ]
    },
    {
      "cell_type": "code",
      "execution_count": null,
      "metadata": {
        "id": "UfzUjiQ_-xK0"
      },
      "outputs": [],
      "source": [
        "a = np.arange(9).reshape(3,3)\n",
        "print(a)\n",
        "print(a[:2,:2])\n",
        "print(a[1:,1:])"
      ]
    },
    {
      "cell_type": "markdown",
      "metadata": {
        "id": "ZN8UTxj1-xK0"
      },
      "source": [
        "多次元配列に対するスライスは、入れ子リストに対するスライスとは意味が異なることに注意してください。"
      ]
    },
    {
      "cell_type": "markdown",
      "metadata": {
        "id": "dWwm_6PH-xK0"
      },
      "source": [
        "### for文\n",
        "\n",
        "リストと同様に、for文を用いて、配列要素への反復処理を記述できます。"
      ]
    },
    {
      "cell_type": "code",
      "execution_count": null,
      "metadata": {
        "id": "msK6i_Q1-xK0"
      },
      "outputs": [],
      "source": [
        "for v in np.arange(3):\n",
        "    print(v)"
      ]
    },
    {
      "cell_type": "markdown",
      "metadata": {
        "id": "njgWBtuD-xK0"
      },
      "source": [
        "多次元配列の場合は、最外の配列に対して反復します。\n",
        "つまり、2次元配列の場合、行の配列に対する反復処理となります。"
      ]
    },
    {
      "cell_type": "code",
      "execution_count": null,
      "metadata": {
        "id": "0Vyrm29p-xK0"
      },
      "outputs": [],
      "source": [
        "for row in np.arange(6).reshape(2,3):\n",
        "    print(row)"
      ]
    },
    {
      "cell_type": "markdown",
      "metadata": {
        "id": "L1MMn8BH-xK0"
      },
      "source": [
        "for文と併用される `enumerate()` の多次元配列版として、`numpy.ndenumerate()` 関数が提供されています。\n",
        "`numpy.ndenumerate()` は、（多次元）インデックスと要素の組を列挙します。"
      ]
    },
    {
      "cell_type": "code",
      "execution_count": null,
      "metadata": {
        "id": "ZBnFyDKt-xK0"
      },
      "outputs": [],
      "source": [
        "for idx, e in np.ndenumerate(np.arange(6).reshape(2,3)):\n",
        "    print(idx, e)"
      ]
    },
    {
      "cell_type": "code",
      "execution_count": null,
      "metadata": {
        "id": "9rDMlX5j-xK0"
      },
      "outputs": [],
      "source": [
        "for idx, e in np.ndenumerate(np.arange(3)):\n",
        "    print(idx, e)"
      ]
    },
    {
      "cell_type": "markdown",
      "metadata": {
        "id": "z_QWboOE-xK0"
      },
      "source": [
        "## 要素毎の演算\n",
        "\n",
        "配列に対する要素毎の演算は、簡潔に記述できます。\n",
        "しかも、for文で記述するより、効率がよいです。\n",
        "要素毎の演算を上手く使えるかどうかが、NumPyプログラミングの肝と言っても過言ではないでしょう。\n",
        "\n",
        "### **配列のスカラ演算**\n",
        "\n",
        "配列とスカラとの算術演算を記述すると、要素毎のスカラ演算となります。\n",
        "演算結果として、新しい配列が返ります。"
      ]
    },
    {
      "cell_type": "code",
      "execution_count": null,
      "metadata": {
        "id": "fEFqME5x-xK1"
      },
      "outputs": [],
      "source": [
        "a = np.arange(4)\n",
        "print(a)\n",
        "\n",
        "print(a + 1) # 各要素に1を加算\n",
        "print(a - 1) # 各要素に1を減算\n",
        "print(a * 2) # 各要素に2を乗算\n",
        "print(a / 2) # 各要素を2で除算\n",
        "print(a // 2) # 各要素を2で整数除算\n",
        "print(a % 2) # 各要素に2の剰余演算\n",
        "print(a ** 2) # 各要素を2乗\n",
        "\n",
        "print(1 + a) # 左側がスカラでもよい\n",
        "print(1 - a) # 左側がスカラでもよい\n",
        "print(2 * a) # 左側がスカラでもよい\n",
        "b = a + 1\n",
        "print(1 / b) # 左側がスカラでもよい\n",
        "print(9 // b) # 左側がスカラでもよい"
      ]
    },
    {
      "cell_type": "markdown",
      "metadata": {
        "id": "upttVLTy-xK1"
      },
      "source": [
        "### **配列同士の演算**\n",
        "\n",
        "形が同じ配列同士の算術演算は、同じ位置の要素同士の演算となります。\n",
        "演算結果として、新しい配列が返ります。"
      ]
    },
    {
      "cell_type": "code",
      "execution_count": null,
      "metadata": {
        "id": "djTEf382-xK1"
      },
      "outputs": [],
      "source": [
        "a = np.arange(4).reshape(2,2)\n",
        "b = np.arange(1,5).reshape(2,2)\n",
        "print(a)\n",
        "print(b)\n",
        "print(a + b) \n",
        "print(a - b)\n",
        "print(a * b)\n",
        "print(a / b)\n",
        "c = 3 * a\n",
        "print(c // b)\n",
        "print(a % b)\n",
        "print(a ** b)"
      ]
    },
    {
      "cell_type": "markdown",
      "metadata": {
        "id": "QfFzRSW4-xK1"
      },
      "source": [
        "実は、形が同じでない配列同士の算術演算も可能ですが、振舞いが複雑なので間違いやすいです。\n",
        "配列同士の算術演算は、形が同じ配列に限定する方が賢明です。"
      ]
    },
    {
      "cell_type": "markdown",
      "metadata": {
        "id": "UrJPr4Ym-xK1"
      },
      "source": [
        "### ユニバーサル関数\n",
        "\n",
        "NumPyには**ユニバーサル関数**と呼ばれる、任意の形の配列を取り、各要素に所定の演算を与えた結果を返す関数があります。\n",
        "その代表例は、**`numpy.sqrt()`** 関数です。"
      ]
    },
    {
      "cell_type": "code",
      "execution_count": null,
      "metadata": {
        "id": "DWgc_Brz-xK1"
      },
      "outputs": [],
      "source": [
        "a = np.zeros(3) + 2\n",
        "print(a)\n",
        "print(np.sqrt(a)) # 各要素はsqrt(2)\n",
        "b = np.zeros((2,2)) + 2\n",
        "print(np.sqrt(b)) # 各要素はsqrt(2)\n",
        "print(np.sqrt(2)) # スカラ（0次元配列）も扱える"
      ]
    },
    {
      "cell_type": "markdown",
      "metadata": {
        "id": "8k6cBEHQ-xK1"
      },
      "source": [
        "この他にも、多数のユニバーサル関数が提供されています。\n",
        "詳しくは、[ユニバーサル関数の一覧](https://docs.scipy.org/doc/numpy-1.14.0/reference/ufuncs.html#available-ufuncs)を参照してください。"
      ]
    },
    {
      "cell_type": "markdown",
      "metadata": {
        "id": "i8mTAh5W-xK2"
      },
      "source": [
        "## よく使われる配列操作\n",
        "### `dot`\n",
        "\n",
        "**`numpy.dot()`** は、2つの配列を引数に取り、そのドット積を返します。\n",
        "両者が1次元配列のときは、ベクトル内積と等しいです。"
      ]
    },
    {
      "cell_type": "code",
      "execution_count": null,
      "metadata": {
        "id": "Bh0BSUwS-xK2"
      },
      "outputs": [],
      "source": [
        "np.dot(np.arange(4), np.arange(1,5)) # 0*1 + 1*2 + 2*3 + 3*4"
      ]
    },
    {
      "cell_type": "markdown",
      "metadata": {
        "id": "flDFba2f-xK2"
      },
      "source": [
        "2次元配列同士だと、行列乗算と等しいです。"
      ]
    },
    {
      "cell_type": "code",
      "execution_count": null,
      "metadata": {
        "id": "8COmoGb2-xK2"
      },
      "outputs": [],
      "source": [
        "# [[0 1]     [[1 2]\n",
        "#  [2 3]] と  [3 4]] の行列積\n",
        "print(np.dot(np.arange(4).reshape(2,2), np.arange(1,5).reshape(2,2)))"
      ]
    },
    {
      "cell_type": "markdown",
      "metadata": {
        "id": "qiHZKRJd-xK2"
      },
      "source": [
        "### `sort`\n",
        "\n",
        "**`numpy.sort()`** 関数は、昇順でソートされた新しい配列を返します。\n",
        "これは、組み込み関数 `sorted()` の配列版です。"
      ]
    },
    {
      "cell_type": "code",
      "execution_count": null,
      "metadata": {
        "id": "7fxZgaRu-xK2"
      },
      "outputs": [],
      "source": [
        "a = np.array([3, 4, -1, 0, 2])\n",
        "print(a)\n",
        "print(np.sort(a))"
      ]
    },
    {
      "cell_type": "markdown",
      "metadata": {
        "id": "mL2Coiyc-xK2"
      },
      "source": [
        "一方、配列の **`sort()`** メソッドは、配列を破壊的に（インプレースで）ソートします。\n",
        "これは、リストの `sort()` メソッドの配列版です。"
      ]
    },
    {
      "cell_type": "code",
      "execution_count": null,
      "metadata": {
        "id": "fpNZvvua-xK2"
      },
      "outputs": [],
      "source": [
        "a = np.array([3, 4, -1, 0, 2])\n",
        "print(a)\n",
        "a.sort()\n",
        "print(a)"
      ]
    },
    {
      "cell_type": "markdown",
      "metadata": {
        "id": "UEr08bmG-xK2"
      },
      "source": [
        "### `sum`, `max`, `min`, `mean`\n",
        "\n",
        "配列のメソッド **`sum()`**・**`max()`**・**`min()`**・**`mean()`** は、それぞれ総和・最大値・最小値・算術平均を返します。\n",
        "これらのメソッドは、引数が与えられない場合、全要素を集計した結果を返します。\n",
        "多次元配列の場合、集計する次元を指定できます。\n",
        "具体的には、2次元配列の場合、`0` を指定すると各列に、`1` を指定すると各行に、対応するメソッドを適用した結果が返されます。"
      ]
    },
    {
      "cell_type": "code",
      "execution_count": null,
      "metadata": {
        "id": "wS9ekCxr-xK2"
      },
      "outputs": [],
      "source": [
        "a = np.arange(6).reshape(2,3)\n",
        "print(a)\n",
        "print(a.sum())\n",
        "print(a.sum(0))\n",
        "print(a.sum(1))"
      ]
    },
    {
      "cell_type": "markdown",
      "metadata": {
        "id": "HwvZMzwM-xK2"
      },
      "source": [
        "この他にも、多数の数学・統計関連のメソッドや関数が提供されています。\n",
        "詳しくは、[数学関数](https://docs.scipy.org/doc/numpy/reference/routines.math.html)や[統計関数](https://docs.scipy.org/doc/numpy/reference/routines.statistics.html)を参照してください。"
      ]
    },
    {
      "cell_type": "markdown",
      "metadata": {
        "id": "0YYY4Oi5-xK2"
      },
      "source": [
        "## 配列の保存と復元\n",
        "\n",
        "配列は、ファイルに保存したり、ファイルから読み出したりすることが、簡単にできます。\n",
        "\n",
        "**`numpy.savetxt()`** 関数は、与えられた配列を指定されたファイル名をつけてテキスト形式で保存します。"
      ]
    },
    {
      "cell_type": "code",
      "execution_count": null,
      "metadata": {
        "id": "K265jeBp-xK2"
      },
      "outputs": [],
      "source": [
        "np.savetxt('arange3.txt', np.arange(3))"
      ]
    },
    {
      "cell_type": "markdown",
      "metadata": {
        "id": "r21X0hRy-xK2"
      },
      "source": [
        "この `arange3.txt` は、次のような内容になっているはずです。\n",
        "```\n",
        "0.000000000000000000e+00\n",
        "1.000000000000000000e+00\n",
        "2.000000000000000000e+00\n",
        "```\n",
        "2次元配列は、列が空白区切りで保存されます"
      ]
    },
    {
      "cell_type": "code",
      "execution_count": null,
      "metadata": {
        "id": "y7Yaffo1-xK2"
      },
      "outputs": [],
      "source": [
        "np.savetxt('arange2x3.txt', np.arange(6).reshape(2,3))"
      ]
    },
    {
      "cell_type": "markdown",
      "metadata": {
        "id": "JXzUkkQN-xK2"
      },
      "source": [
        "この `arange2x3.txt` は、次のような内容になっているはずです。\n",
        "```\n",
        "0.000000000000000000e+00 1.000000000000000000e+00 2.000000000000000000e+00\n",
        "3.000000000000000000e+00 4.000000000000000000e+00 5.000000000000000000e+00\n",
        "```\n",
        "\n",
        "一方、**`numpy.loadtxt()`** 関数は、与えられた名前のファイルに保存された配列を復元します。"
      ]
    },
    {
      "cell_type": "code",
      "execution_count": null,
      "metadata": {
        "id": "kWXiJ7bs-xK2"
      },
      "outputs": [],
      "source": [
        "a = np.loadtxt('arange2x3.txt')\n",
        "print(a)"
      ]
    },
    {
      "cell_type": "markdown",
      "metadata": {
        "id": "vPrm_1wf-xK2"
      },
      "source": [
        "保存するときに、列の区切り文字をデフォルトの `' '` 以外にしたい場合、`savetxt()` の `delimiter` 引数に区切り文字（列）を指定します。これを復元するときには、`loadtxt()` の `delimiter` 引数に同じ値を指定する必要があります。\n",
        "ただし、区切り文字列はASCII（正確にはLatin-1）で解釈可能でなければなりません。\n",
        "\n",
        "大規模な配列をテキスト形式で保存すると、ファイルサイズがとても大きくなります。\n",
        "そういう場合、圧縮保存が有用です。\n",
        "\n",
        "保存するファイル名の拡張子を `.gz` とすることで、`savetxt()` は自動的にGZip形式で圧縮して保存します。\n",
        "復元するファイル名の拡張子が `.gz` であれば、`loadtxt()` はGZip形式だと判断して、自動的に解凍して復元します。"
      ]
    },
    {
      "cell_type": "markdown",
      "metadata": {
        "id": "bq1H6i-P-xK2"
      },
      "source": [
        "## ▲**真理値配列によるインデックスアクセス**\n",
        "\n",
        "配列に対して、比較演算を適用すると、算術演算と同様に要素毎に演算されて、真理値の配列が返ります。"
      ]
    },
    {
      "cell_type": "code",
      "execution_count": null,
      "metadata": {
        "id": "qjWN5vI0-xK2"
      },
      "outputs": [],
      "source": [
        "a = np.arange(6)\n",
        "print(a)\n",
        "print(a < 3)"
      ]
    },
    {
      "cell_type": "markdown",
      "metadata": {
        "id": "Oc_wcWWK-xK2"
      },
      "source": [
        "このように作られた真理値配列は、インデックスとして利用することができます。\n",
        "これによって、条件を満たす範囲を取り出すような記述が可能になります。\n",
        "次の具体例を見てみましょう。"
      ]
    },
    {
      "cell_type": "code",
      "execution_count": null,
      "metadata": {
        "id": "3UrN6N1m-xK2"
      },
      "outputs": [],
      "source": [
        "a = np.array([0,1,2,-3,-4,5,-6,-7])\n",
        "print(a)\n",
        "print(a[a < 0]) # 負の要素を取り出し\n",
        "print(a[(a < 0) & (a % 2 == 0)]) # 負で偶数の要素を取り出し\n",
        "a[a < 0] = 8 # 負の要素を8に上書き\n",
        "print(a)"
      ]
    },
    {
      "cell_type": "markdown",
      "metadata": {
        "id": "mNIo_pLw-xK2"
      },
      "source": [
        "一見すると単なる条件式のように見えますが、インデックスとなるのは真理値ではなく真理値の配列です。\n",
        "したがって、真理値を返す `and`・`or`・`not` の代わりに、要素毎の演算を行う `&`・`|`・`~` を用いる必要があります。\n",
        "\n",
        "同様の記法は、7-1で扱うpandasライブラリでも利用されます。"
      ]
    },
    {
      "cell_type": "markdown",
      "metadata": {
        "id": "IIncDdtU-xK2"
      },
      "source": [
        "## ▲線形代数の演算\n",
        "\n",
        "`numpy.dot()` は、2次元配列を与えたときには、行列積となりました。\n",
        "それだけでなく、行列積専用の **`numpy.matmul()`** も提供されています。\n",
        "\n",
        "また、単位行列は **`numpy.identity()`** 関数で作成することができます。\n",
        "引数に行列のサイズを指定します。"
      ]
    },
    {
      "cell_type": "code",
      "execution_count": null,
      "metadata": {
        "id": "TqoOHVmB-xK3"
      },
      "outputs": [],
      "source": [
        "I = np.identity(3)\n",
        "print(I)\n",
        "a = np.arange(9).reshape(3,3)\n",
        "print(a)\n",
        "print(np.matmul(a, I))"
      ]
    },
    {
      "cell_type": "markdown",
      "metadata": {
        "id": "Prk2SFVp-xK3"
      },
      "source": [
        "**`numpy.linalg.norm()`** 関数は、与えられたベクトル（1次元配列）もしくは行列（2次元配列）のノルムを返します。"
      ]
    },
    {
      "cell_type": "code",
      "execution_count": null,
      "metadata": {
        "id": "OcyV6P9m-xK3"
      },
      "outputs": [],
      "source": [
        "np.linalg.norm(np.ones(3)) # ユークリッドノルムを計算するのでsqrt(3)と等しい"
      ]
    },
    {
      "cell_type": "markdown",
      "metadata": {
        "id": "NGLgdpZp-xK3"
      },
      "source": [
        "NumPyでは、行列の分解、転置、行列式などの計算を含む線形代数の演算は、**`numpy.linalg`** モジュールで提供されています。\n",
        "詳しくは、[線形代数関連関数](https://docs.scipy.org/doc/numpy/reference/routines.linalg.html)を参照してください。"
      ]
    },
    {
      "cell_type": "markdown",
      "metadata": {
        "id": "8PsrxaFn-xK3"
      },
      "source": [
        "## 練習の解答"
      ]
    },
    {
      "cell_type": "code",
      "execution_count": null,
      "metadata": {
        "id": "9sSqBDZ9-xK3"
      },
      "outputs": [],
      "source": [
        "def arange_square_matrix(n):\n",
        "    return np.array([np.arange(i, n+i) for i in range(n)])"
      ]
    }
  ],
  "metadata": {
    "kernelspec": {
      "display_name": "Python 3",
      "language": "python",
      "name": "python3"
    },
    "language_info": {
      "name": "python"
    },
    "colab": {
      "name": "5-3.ipynb",
      "provenance": []
    }
  },
  "nbformat": 4,
  "nbformat_minor": 0
}