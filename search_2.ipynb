{
  "nbformat": 4,
  "nbformat_minor": 0,
  "metadata": {
    "colab": {
      "name": "search_2",
      "provenance": [],
      "collapsed_sections": [],
      "include_colab_link": true
    },
    "kernelspec": {
      "name": "python3",
      "display_name": "Python 3"
    }
  },
  "cells": [
    {
      "cell_type": "markdown",
      "metadata": {
        "id": "view-in-github",
        "colab_type": "text"
      },
      "source": [
        "<a href=\"https://colab.research.google.com/github/ika-si/AI-Fri45/blob/main/search_2.ipynb\" target=\"_parent\"><img src=\"https://colab.research.google.com/assets/colab-badge.svg\" alt=\"Open In Colab\"/></a>"
      ]
    },
    {
      "cell_type": "markdown",
      "metadata": {
        "id": "YioVpH-P8Jiw"
      },
      "source": [
        "# pythonで迷路（＝グラフ）探索アルゴリズムを実装する\n",
        "\n",
        "## 2. 幅優先探索編\n",
        "\n",
        "### 2-0. Google Colab のファイルを手元にコピーする\n",
        "- この文を読めている時点でアクセスには成功している。\n",
        "- 自身のGoogleドライブ上の好きな場所にこのファイルのコピーを作成しよう。\n",
        "- 自身のローカルで実行していっても良いが、基本的にはGoogle Colabで進めることを想定している。\n",
        "\n",
        "### 2-1. 幅優先探索（BFS; Breath First Search）の関数と前準備\n",
        "- 以下のコードは幅優先検索の関数BFSを中身がカラの状態で宣言したものである。\n",
        "- **実は、DFSの実装を頑張った皆であれば、BFSはすぐに実装できる。**\n",
        "- **2. 幅優先探索編 の最終課題：BFSを完成させて実行してみよう。**\n",
        "  - 関数BFSを完成させて、実際に幅優先探索でスタートからゴールまで探索させよう。\n",
        "  - 今までの講義と演習を理解していれば、作業はすぐに終了する。落ち着いて振り返ってみよう。\n",
        "    - ヒント：幅優先探索と深さ優先探索のアルゴリズムはどれくらい違うものだったか。どこに違いがあったか。\n",
        "- **実行結果として、幅優先探索で訪問したリストの順序が講義での例と同じになったらTAに見せること（誰か1名でよい）。以上で今回の演習は終了となる。時間が余ったら、以下の3.加点課題：DFSのもう一つの実装方法に取り組んでも良い。**"
      ]
    },
    {
      "cell_type": "code",
      "metadata": {
        "id": "gyWrm1Hap9AC"
      },
      "source": [
        "from collections import defaultdict \n",
        "import matplotlib.pyplot as plt\n",
        "import networkx as nx\n",
        "\n",
        "# 迷路をグラフとして保持するクラス\n",
        "class Graph: \n",
        "  \n",
        "    # コンストラクタ（クラスを初期化する） \n",
        "    def __init__(self): \n",
        "  \n",
        "        # pythonのcollectionsから辞書型の変数を宣言し、このクラスのメンバ変数として定義\n",
        "        self.graph = defaultdict(list) \n",
        "  \n",
        "    # u番目のノードとv番目のノードの間に双方向のエッジを張る\n",
        "    def addEdge(self, u, v): \n",
        "        self.graph[u].append(v) \n",
        "        self.graph[v].append(u) \n",
        "\n",
        "    # Depth First Search (深さ優先探索) でoriginノードからdestinationノードまで探索 \n",
        "    def DFS(self, o, d): \n",
        "  \n",
        "        # ノードそれぞれを訪問したことがあるかを示すリスト\n",
        "        # 最初は全て訪問したことがないので False のみ \n",
        "        visited = [False] * (len(self.graph)) \n",
        "  \n",
        "        # オープンリスト\n",
        "        queue = [] \n",
        "  \n",
        "        # オープンリストの要素第1号としてスタート地点を追加\n",
        "        queue.append(o) \n",
        "        # スタート地点を訪問済みにする\n",
        "        visited[o] = True\n",
        "  \n",
        "        # queueが空でない限りループ  \n",
        "        while queue: \n",
        "  \n",
        "            # オープンリストの先頭のノードを抜き出す\n",
        "            s = queue.pop(0) \n",
        "            # クローズドリストに追加する代わりに辿った順序を出力していく\n",
        "            print (s, end = \" \") \n",
        "            # 目的地を出力した時点で終了\n",
        "            if s == d:\n",
        "                print (\"\\n\")\n",
        "                return\n",
        "  \n",
        "            # 👆で抜き出されたノードから繋がっているノードを調べていく\n",
        "            subqueue = []\n",
        "            for i in self.graph[s]: \n",
        "                # まだ訪れたことの無いノードをサブのオープンリストに追加\n",
        "                # オープンリストに加えた時点で訪問済みとする\n",
        "                if visited[i] == False:\n",
        "                    subqueue.append(i) \n",
        "                    visited[i] = True\n",
        "            # サブのオープンリストを本体のオープンリストの「先頭」に追加\n",
        "            queue = subqueue + queue \n",
        "  \n",
        "    # Breath First Search (幅優先探索) でoriginノードからdestinationノードまで探索 \n",
        "    def BFS(self, o, d): # 2-1.で完成させるべき関数\n",
        "\n",
        "        return   \n",
        "  \n",
        "if __name__ == \"__main__\":\n",
        "  \n",
        "    # グラフを作成する\n",
        "    # 講義で表示されているとおりのグラフをここで作成する \n",
        "    # (Sを0、Gを9とし、その他のノードは番号通り1から8までとする)\n",
        "    g = Graph() \n",
        "    g.addEdge(0, 1)\n",
        "    g.addEdge(1, 4)\n",
        "    g.addEdge(1, 2)\n",
        "    g.addEdge(2, 3)\n",
        "    g.addEdge(2, 4)\n",
        "    g.addEdge(4, 7)\n",
        "    g.addEdge(7, 6)\n",
        "    g.addEdge(7, 5)\n",
        "    g.addEdge(5, 8)\n",
        "    g.addEdge(5, 9)\n",
        "\n",
        "    # グラフの図示にはnetworkxを用いる\n",
        "    # 上記で作成したGraphクラスのインスタンスにあるメンバ変数のgraphをnetworkxのグラフ表現に変換して表示\n",
        "    nx.draw(nx.convert.to_networkx_graph(g.graph), with_labels=True)\n",
        "    plt.show()\n",
        "\n",
        "    # 深さ優先探索の実行\n",
        "    print (\"Following is Depth First Traversal (starting from vertex 0)\") \n",
        "    g.DFS(0,9)\n",
        "\n",
        "    # 幅優先探索の実行\n",
        "    print (\"Following is Breadth First Traversal (starting from vertex 0)\") \n",
        "    g.BFS(0,9) \n",
        "\n",
        "\n",
        "\n"
      ],
      "execution_count": null,
      "outputs": []
    },
    {
      "cell_type": "markdown",
      "metadata": {
        "id": "yybqZ5XW-U6G"
      },
      "source": [
        "### 3. 加点課題：DFSのもう一つの実装方法\n",
        "- 実は、DFSはもっと短いコードで実装できる。\n",
        "- 以下はその一例である。表示するためのコードやコメントが無いせいもあるが、とても短くなっているのがわかる。\n",
        "  - ただし、短くは書けるが可読性は落ちている。\n",
        "  - 一部のアルゴリズムを実装する際に頻繁に用いられるテクニックが入っている。\n",
        "- **加点課題：このコードでどのようにしてDFSが実現されるのかを言葉で説明せよ。**\n",
        "  - 自由なフォーマットで作文しても良いし、コードに対して詳細なコメントを入れていく方式でも良い。\n",
        "  - プログラミングとしてどのようなテクニックが用いられているかも明らかにすること。\n",
        "  - この課題の解答は ushiku@gm.tsuda.ac.jp 宛に「探索演習 加点課題：（氏名）」というタイトルで送付すること。\n",
        "  - 基準以上の解答が出来た者には出席点0.5回分を加点する。\n"
      ]
    },
    {
      "cell_type": "code",
      "metadata": {
        "id": "dY-HHBT_5O1L"
      },
      "source": [
        "graph = {\n",
        "    'A' : ['B','C'],\n",
        "    'B' : ['D', 'E'],\n",
        "    'C' : ['F'],\n",
        "    'D' : [],\n",
        "    'E' : ['F'],\n",
        "    'F' : []\n",
        "}\n",
        "\n",
        "visited = set()\n",
        "\n",
        "def dfs(visited, graph, node):\n",
        "    if node not in visited:\n",
        "        print (node, end = \" \")\n",
        "        visited.add(node)\n",
        "        for neighbour in graph[node]:\n",
        "            dfs(visited, graph, neighbour)\n",
        "\n",
        "dfs(visited, graph, 'A')\n"
      ],
      "execution_count": null,
      "outputs": []
    }
  ]
}