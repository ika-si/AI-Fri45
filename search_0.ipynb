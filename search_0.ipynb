{
  "nbformat": 4,
  "nbformat_minor": 0,
  "metadata": {
    "colab": {
      "name": "search_0",
      "provenance": [],
      "collapsed_sections": [],
      "include_colab_link": true
    },
    "kernelspec": {
      "name": "python3",
      "display_name": "Python 3"
    }
  },
  "cells": [
    {
      "cell_type": "markdown",
      "metadata": {
        "id": "view-in-github",
        "colab_type": "text"
      },
      "source": [
        "<a href=\"https://colab.research.google.com/github/ika-si/AI-Fri45/blob/main/search_0.ipynb\" target=\"_parent\"><img src=\"https://colab.research.google.com/assets/colab-badge.svg\" alt=\"Open In Colab\"/></a>"
      ]
    },
    {
      "cell_type": "markdown",
      "metadata": {
        "id": "-d1yZDo18Tb5"
      },
      "source": [
        "# pythonで迷路（＝グラフ）探索アルゴリズムを実装する\n",
        "\n",
        "## 0. 準備編（迷路の作成と表示）\n",
        "\n",
        "### 0-0. Google Colab のファイルを手元にコピーする\n",
        "- この文を読めている時点でアクセスには成功している。\n",
        "- 自身のGoogleドライブ上の好きな場所にこのファイルのコピーを作成しよう。\n",
        "- 自身のローカルで実行していっても良いが、基本的にはGoogle Colabで進めることを想定している。\n",
        "\n",
        "### 0-1. 迷路を有向グラフとして保持するクラスを作成してみよう\n",
        "- 次のセルのコードでは、Graphクラスと言うオリジナルのクラスを作成している。\n",
        "  - メンバ変数としてgraphという辞書型の変数を用意している。これがグラフの実体で、ある要素（ノード）から遷移可能な要素（ノード）が配列として格納されている。\n",
        "  - 試しに今の状態で実行してみよう。セルを選択してCtrl+Enterを押下すると楽。\n",
        "```\n",
        "defaultdict(<class 'list'>, {0: [1], 1: [2], 2: [3]})\n",
        "```\n",
        "- 上記の実行結果は次の様な迷路を意味している。講義を確認し、実際の迷路のスタートノード、ノード1とノード2の関係と見比べてみよう。\n",
        "  - ノード0（スタート）からノード1に遷移できる。\n",
        "  - ノード1からノード2に遷移できる。\n",
        "  - ノード2からノード3に遷移できる。\n",
        "- **実はこのままだと問題がある。**\n",
        "  - **例えばノード0からノード1に動くことはできるのだが、ノード1からノード0に戻る（遷移する）ことができない表現になっている。**\n",
        "  - 以降の実装ではグラフを有向グラフとして扱うので、両方のノードからお互いのノードを遷移先として登録する必要がある。\n",
        "- この問題を解決する単純な手段は、mainの部分にあるg.addEdgeを2倍書くことだ。今は\n",
        "```\n",
        "    g.addEdge(0, 1)\n",
        "    g.addEdge(1, 2)\n",
        "    g.addEdge(2, 3)\n",
        "```\n",
        "となっているところを、\n",
        "```\n",
        "    g.addEdge(0, 1)\n",
        "    g.addEdge(1, 0)\n",
        "    g.addEdge(1, 2)\n",
        "    g.addEdge(2, 1)\n",
        "    g.addEdge(2, 3)\n",
        "    g.addEdge(3, 2)\n",
        "```\n",
        "として実行してみよう。**実行してみたら次のステップへ。**"
      ]
    },
    {
      "cell_type": "code",
      "metadata": {
        "id": "ZI3Pkaua9oFk",
        "outputId": "69146099-ff1a-4e4d-d41b-d5f03fa654e7",
        "colab": {
          "base_uri": "https://localhost:8080/"
        }
      },
      "source": [
        "from collections import defaultdict \n",
        "\n",
        "# 迷路をグラフとして保持するクラス\n",
        "class Graph: \n",
        "  \n",
        "    # コンストラクタ（クラスを初期化する） \n",
        "    def __init__(self): \n",
        "  \n",
        "        # pythonのcollectionsから辞書型の変数を宣言し、このクラスのメンバ変数として定義\n",
        "        self.graph = defaultdict(list) \n",
        "  \n",
        "    # u番目のノードとv番目のノードの間に双方向のエッジを張る\n",
        "    def addEdge(self, u, v): \n",
        "        self.graph[u].append(v) \n",
        "\n",
        "\n",
        "if __name__ == \"__main__\":\n",
        "  \n",
        "    # グラフを作成する\n",
        "    g = Graph() \n",
        "    g.addEdge(0, 1)\n",
        "    g.addEdge(1, 2)\n",
        "    g.addEdge(2, 3)\n",
        "\n",
        "    # グラフの表示\n",
        "    print(g.graph)\n",
        "\n"
      ],
      "execution_count": 1,
      "outputs": [
        {
          "output_type": "stream",
          "name": "stdout",
          "text": [
            "defaultdict(<class 'list'>, {0: [1], 1: [2], 2: [3]})\n"
          ]
        }
      ]
    },
    {
      "cell_type": "markdown",
      "metadata": {
        "id": "DQ92JqF7E5NV"
      },
      "source": [
        "### 0-2. より賢い方法を考える\n",
        "- 👆を指示通りに進めると、最後に実行した際に以下の様な出力が得られるはずだ。\n",
        "```\n",
        "defaultdict(<class 'list'>, {0: [1], 1: [0, 2], 2: [1, 3], 3: [2]})\n",
        "```\n",
        "  - ノード0とノード1、ノード1とノード2、ノード2とノード3が相互に遷移可能なノードとして登録されていることを確認しよう。\n",
        "- しかし、この方法を採用するとg.addEdgeを大量に呼び出す必要がある。\n",
        "  - これから先、講義で見せた迷路のように、ノード4からノード8とゴールのノード（ノード9）を追加したい。\n",
        "  - それぞれを同じように2回ずつg.addEdgeを読んで接続していくと、手間がかかる。こうした手間はヒューマンエラーによってバグを引き起こしやすい場所でもある。\n",
        "- 以下のコードで「0-2.で何かを埋める行」というコメントがある部分に注目する。\n",
        "  - ここに1行加えると、mainの部分はそのままでもノード同士が双方向に接続された出力が得られる。\n",
        "```\n",
        "defaultdict(<class 'list'>, {0: [1], 1: [0, 2], 2: [1, 3], 3: [2]})\n",
        "```\n",
        "- **「0-2.で何かを埋める行」に何を入れるべきか考えて、実際に上記の出力が得られるようにしよう。（g.addEdgeの部分は変えないこと。）うまく行ったら次のステップへ。**"
      ]
    },
    {
      "cell_type": "code",
      "metadata": {
        "id": "gyWrm1Hap9AC",
        "outputId": "cec9b3f3-c265-4a98-80c0-6f4645d71ceb",
        "colab": {
          "base_uri": "https://localhost:8080/"
        }
      },
      "source": [
        "from collections import defaultdict \n",
        "\n",
        "# 迷路をグラフとして保持するクラス\n",
        "class Graph: \n",
        "  \n",
        "    # コンストラクタ（クラスを初期化する） \n",
        "    def __init__(self): \n",
        "  \n",
        "        # pythonのcollectionsから辞書型の変数を宣言し、このクラスのメンバ変数として定義\n",
        "        self.graph = defaultdict(list) \n",
        "  \n",
        "    # u番目のノードとv番目のノードの間に双方向のエッジを張る\n",
        "    def addEdge(self, u, v): \n",
        "        self.graph[u].append(v) \n",
        "        #--------- 0-2.で何かを埋める行 ---------# \n",
        "        self.graph[v].append(u)\n",
        "\n",
        "if __name__ == \"__main__\":\n",
        "  \n",
        "    # グラフを作成する\n",
        "    g = Graph() \n",
        "    g.addEdge(0, 1)\n",
        "    g.addEdge(1, 2)\n",
        "    g.addEdge(2, 3)\n",
        "    \n",
        "    # グラフの表示\n",
        "    print(g.graph)\n",
        "\n"
      ],
      "execution_count": 2,
      "outputs": [
        {
          "output_type": "stream",
          "name": "stdout",
          "text": [
            "defaultdict(<class 'list'>, {0: [1], 1: [0, 2], 2: [1, 3], 3: [2]})\n"
          ]
        }
      ]
    },
    {
      "cell_type": "markdown",
      "metadata": {
        "id": "X0Sa-et2Nc9G"
      },
      "source": [
        "### 0-3. グラフの完成と表示～プログラミングのロールプレイング\n",
        "- **講義を確認しながら、「0-3.で数行追加する部分」で必要な数だけg.addEdgeを呼び出し、残りのノードとエッジを繋いでいこう。**\n",
        "  - 最終的には以下の様な出力が得られるはずである。\n",
        "```\n",
        "defaultdict(<class 'list'>, {0: [1], 1: [0, 4, 2], 4: [1, 2, 7], 2: [1, 3, 4], 3: [2], 7: [4, 6, 5], 6: [7], 5: [7, 8, 9], 8: [5], 9: [5]})\n",
        "```\n",
        "  - **しかし、このように単に標準出力でノードの接続関係を配列で見るだけだと、内容が分かりにくいし、合っているのかどうかも判断しづらい。**\n",
        "- そこで、グラフの表示にnetworkxというモジュールが使えることを知ったとしよう。\n",
        "  - 「networkxのdrawという関数で表示できるよー」という情報も得た。\n",
        "  - 早速以下のコードのように、networkxとこれを表示するためのmatplotlibをimportした。\n",
        "  - 以下の行を探そう。\n",
        "  ```\n",
        "      # nx.draw(g.graph, with_labels=True) # 0-3.で何かを修正する行 \n",
        "  ```\n",
        "  - コメント命令を外して実行してみよう。**勘のいい人なら予想できたと思うが、うまく行かない。エラーを吐いて終わってしまう。**\n",
        "  ```\n",
        "      # nx.draw(g.graph, with_labels=True) # 0-3.で何かを修正する行 \n",
        "  ```\n",
        "- これはプログラミング中に良くあることで、教科書やweb上の情報などで動くコードとして掲載されているものでも、バージョンの違いなどで動かなくなっていることは珍しくない。\n",
        "  - まずは networkx のドキュメントを読むべき。安定バージョンのドキュメントは https://networkx.org/documentation/stable/ にある。\n",
        "  - 左上に「Search docs」にと言うボックスがあるので、drawと入れて検索してみよう。色々出てくると思うが、今は https://networkx.org/documentation/stable/reference/generated/networkx.drawing.nx_pylab.draw.html#networkx.drawing.nx_pylab.draw を選んだとしよう。\n",
        "  - この項目を読むと、draw_networkxという関数の方がより色々と設定できるようだ。そちらの説明も開いてみよう。（項目内にdraw_networkxの説明へのリンクがある。）\n",
        "- **0. 準備編 の最終課題：グラフ構造をnetworkxで表示できるようにしよう。**\n",
        "  - **エラーをみるとg.graphをそのままdrawに渡してもダメなようだ。**\n",
        "    - ドキュメントをみるとこの引数は\"A networkx graph\"と書いてある。\n",
        "    - networkxモジュールでは、networkxオリジナルの型の変数としてグラフを取り扱っているのかもしれない。\n",
        "    - 今定義している辞書型の変数g.graphをnetworkxオリジナルの型に変換できればよいのではないか。\n",
        "    - **g.graphをnetworkxオリジナルの型に変換する関数を探し、エラーを解決しよう。** ヒント：変数の型を「変換」する機能をドキュメント内で検索したい。もちろん日本語で変換と入れてもダメ。変数の型の変換は英語では convert である。\n",
        "  - **エラーは解決出来て、グラフも表示された。が、どのノードがどの番号のノードなのかが分からない。**\n",
        "    - 何かノードの名前が表示できる方法はないだろうか。\n",
        "    - **先ほど見たdraw_networkxの説明をよく読んで、ノードのラベルが表示されるオプションを探し、ノードの名前が見えるようにしよう。**\n",
        "  - **上記2点が解決されたグループは、TAに対して表示されたグラフを見せること（誰か1名でよい）。上記2点を満たしていることが認められた場合は、TAから1.深さ優先探索編のURLを知らされる。**"
      ]
    },
    {
      "cell_type": "code",
      "metadata": {
        "id": "X6dXRcoEE1ZZ"
      },
      "source": [
        "from collections import defaultdict \n",
        "import matplotlib.pyplot as plt\n",
        "import networkx as nx\n",
        "\n",
        "# 迷路をグラフとして保持するクラス\n",
        "class Graph: \n",
        "  \n",
        "    # コンストラクタ（クラスを初期化する） \n",
        "    def __init__(self): \n",
        "  \n",
        "        # pythonのcollectionsから辞書型の変数を宣言し、このクラスのメンバ変数として定義\n",
        "        self.graph = defaultdict(list) \n",
        "  \n",
        "    # u番目のノードとv番目のノードの間に双方向のエッジを張る\n",
        "    def addEdge(self, u, v): \n",
        "        self.graph[u].append(v) \n",
        "        #--------- 0-2.で何かを埋める行 ---------# \n",
        "\n",
        "  \n",
        "if __name__ == \"__main__\":\n",
        "  \n",
        "    # グラフを作成する\n",
        "    # 講義で表示されているとおりのグラフをここで作成する \n",
        "    # (Sを0、Gを9とし、その他のノードは番号通り1から8までとする)\n",
        "    g = Graph() \n",
        "    g.addEdge(0, 1)\n",
        "    g.addEdge(1, 2)\n",
        "    g.addEdge(2, 3)\n",
        "    # 0-3.で数行追加する部分\n",
        "\n",
        "    # グラフの表示\n",
        "    print(g.graph)\n",
        "\n",
        "    # グラフの図示にはnetworkxを用いる\n",
        "    # drawという関数を使えばグラフが表示されるはずだが…？\n",
        "    # nx.draw(g.graph) # 0-3.で何かを修正する行 \n",
        "    plt.show()\n",
        "\n"
      ],
      "execution_count": null,
      "outputs": []
    }
  ]
}